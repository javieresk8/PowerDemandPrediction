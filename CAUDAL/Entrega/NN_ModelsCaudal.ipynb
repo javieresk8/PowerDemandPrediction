{
  "cells": [
    {
      "cell_type": "code",
      "execution_count": 1,
      "metadata": {
        "id": "HGDpWkRuzShj"
      },
      "outputs": [],
      "source": [
        "import pandas as pd \n",
        "import numpy as np\n",
        "import matplotlib.pyplot as plt\n",
        "from sklearn.preprocessing import LabelEncoder\n",
        "from sklearn.model_selection import train_test_split\n",
        "import keras\n",
        "from keras.models import Sequential\n",
        "from keras.layers import Dense, Activation, Dropout\n",
        "from sklearn.metrics import mean_squared_error"
      ]
    },
    {
      "cell_type": "markdown",
      "metadata": {
        "id": "Eb-7P_W_0e0n"
      },
      "source": [
        "# Procesamiento de Datos "
      ]
    },
    {
      "cell_type": "code",
      "execution_count": 4,
      "metadata": {
        "colab": {
          "base_uri": "https://localhost:8080/",
          "height": 424
        },
        "id": "G_7nYD2V0TfR",
        "outputId": "419e1590-b222-49ff-a85b-ee0fe465c1cf"
      },
      "outputs": [
        {
          "output_type": "execute_result",
          "data": {
            "text/html": [
              "\n",
              "  <div id=\"df-2dc98263-1657-49e3-90a6-cd55bccf7fad\">\n",
              "    <div class=\"colab-df-container\">\n",
              "      <div>\n",
              "<style scoped>\n",
              "    .dataframe tbody tr th:only-of-type {\n",
              "        vertical-align: middle;\n",
              "    }\n",
              "\n",
              "    .dataframe tbody tr th {\n",
              "        vertical-align: top;\n",
              "    }\n",
              "\n",
              "    .dataframe thead th {\n",
              "        text-align: right;\n",
              "    }\n",
              "</style>\n",
              "<table border=\"1\" class=\"dataframe\">\n",
              "  <thead>\n",
              "    <tr style=\"text-align: right;\">\n",
              "      <th></th>\n",
              "      <th>AÑO</th>\n",
              "      <th>MES</th>\n",
              "      <th>DIA</th>\n",
              "      <th>FECHA</th>\n",
              "      <th>HORA</th>\n",
              "      <th>Caudal</th>\n",
              "    </tr>\n",
              "  </thead>\n",
              "  <tbody>\n",
              "    <tr>\n",
              "      <th>0</th>\n",
              "      <td>2015</td>\n",
              "      <td>1</td>\n",
              "      <td>1</td>\n",
              "      <td>jueves</td>\n",
              "      <td>00:00:00</td>\n",
              "      <td>1100.7567</td>\n",
              "    </tr>\n",
              "    <tr>\n",
              "      <th>1</th>\n",
              "      <td>2015</td>\n",
              "      <td>1</td>\n",
              "      <td>1</td>\n",
              "      <td>jueves</td>\n",
              "      <td>00:30:00</td>\n",
              "      <td>1100.7567</td>\n",
              "    </tr>\n",
              "    <tr>\n",
              "      <th>2</th>\n",
              "      <td>2015</td>\n",
              "      <td>1</td>\n",
              "      <td>1</td>\n",
              "      <td>jueves</td>\n",
              "      <td>01:00:00</td>\n",
              "      <td>1100.7567</td>\n",
              "    </tr>\n",
              "    <tr>\n",
              "      <th>3</th>\n",
              "      <td>2015</td>\n",
              "      <td>1</td>\n",
              "      <td>1</td>\n",
              "      <td>jueves</td>\n",
              "      <td>01:30:00</td>\n",
              "      <td>742.7767</td>\n",
              "    </tr>\n",
              "    <tr>\n",
              "      <th>4</th>\n",
              "      <td>2015</td>\n",
              "      <td>1</td>\n",
              "      <td>1</td>\n",
              "      <td>jueves</td>\n",
              "      <td>02:00:00</td>\n",
              "      <td>742.7767</td>\n",
              "    </tr>\n",
              "    <tr>\n",
              "      <th>...</th>\n",
              "      <td>...</td>\n",
              "      <td>...</td>\n",
              "      <td>...</td>\n",
              "      <td>...</td>\n",
              "      <td>...</td>\n",
              "      <td>...</td>\n",
              "    </tr>\n",
              "    <tr>\n",
              "      <th>81784</th>\n",
              "      <td>2019</td>\n",
              "      <td>12</td>\n",
              "      <td>31</td>\n",
              "      <td>martes</td>\n",
              "      <td>21:30:00</td>\n",
              "      <td>909.7567</td>\n",
              "    </tr>\n",
              "    <tr>\n",
              "      <th>81785</th>\n",
              "      <td>2019</td>\n",
              "      <td>12</td>\n",
              "      <td>31</td>\n",
              "      <td>martes</td>\n",
              "      <td>22:00:00</td>\n",
              "      <td>909.7567</td>\n",
              "    </tr>\n",
              "    <tr>\n",
              "      <th>81786</th>\n",
              "      <td>2019</td>\n",
              "      <td>12</td>\n",
              "      <td>31</td>\n",
              "      <td>martes</td>\n",
              "      <td>22:30:00</td>\n",
              "      <td>909.7567</td>\n",
              "    </tr>\n",
              "    <tr>\n",
              "      <th>81787</th>\n",
              "      <td>2019</td>\n",
              "      <td>12</td>\n",
              "      <td>31</td>\n",
              "      <td>martes</td>\n",
              "      <td>23:00:00</td>\n",
              "      <td>909.7567</td>\n",
              "    </tr>\n",
              "    <tr>\n",
              "      <th>81788</th>\n",
              "      <td>2019</td>\n",
              "      <td>12</td>\n",
              "      <td>31</td>\n",
              "      <td>martes</td>\n",
              "      <td>23:30:00</td>\n",
              "      <td>909.7567</td>\n",
              "    </tr>\n",
              "  </tbody>\n",
              "</table>\n",
              "<p>81789 rows × 6 columns</p>\n",
              "</div>\n",
              "      <button class=\"colab-df-convert\" onclick=\"convertToInteractive('df-2dc98263-1657-49e3-90a6-cd55bccf7fad')\"\n",
              "              title=\"Convert this dataframe to an interactive table.\"\n",
              "              style=\"display:none;\">\n",
              "        \n",
              "  <svg xmlns=\"http://www.w3.org/2000/svg\" height=\"24px\"viewBox=\"0 0 24 24\"\n",
              "       width=\"24px\">\n",
              "    <path d=\"M0 0h24v24H0V0z\" fill=\"none\"/>\n",
              "    <path d=\"M18.56 5.44l.94 2.06.94-2.06 2.06-.94-2.06-.94-.94-2.06-.94 2.06-2.06.94zm-11 1L8.5 8.5l.94-2.06 2.06-.94-2.06-.94L8.5 2.5l-.94 2.06-2.06.94zm10 10l.94 2.06.94-2.06 2.06-.94-2.06-.94-.94-2.06-.94 2.06-2.06.94z\"/><path d=\"M17.41 7.96l-1.37-1.37c-.4-.4-.92-.59-1.43-.59-.52 0-1.04.2-1.43.59L10.3 9.45l-7.72 7.72c-.78.78-.78 2.05 0 2.83L4 21.41c.39.39.9.59 1.41.59.51 0 1.02-.2 1.41-.59l7.78-7.78 2.81-2.81c.8-.78.8-2.07 0-2.86zM5.41 20L4 18.59l7.72-7.72 1.47 1.35L5.41 20z\"/>\n",
              "  </svg>\n",
              "      </button>\n",
              "      \n",
              "  <style>\n",
              "    .colab-df-container {\n",
              "      display:flex;\n",
              "      flex-wrap:wrap;\n",
              "      gap: 12px;\n",
              "    }\n",
              "\n",
              "    .colab-df-convert {\n",
              "      background-color: #E8F0FE;\n",
              "      border: none;\n",
              "      border-radius: 50%;\n",
              "      cursor: pointer;\n",
              "      display: none;\n",
              "      fill: #1967D2;\n",
              "      height: 32px;\n",
              "      padding: 0 0 0 0;\n",
              "      width: 32px;\n",
              "    }\n",
              "\n",
              "    .colab-df-convert:hover {\n",
              "      background-color: #E2EBFA;\n",
              "      box-shadow: 0px 1px 2px rgba(60, 64, 67, 0.3), 0px 1px 3px 1px rgba(60, 64, 67, 0.15);\n",
              "      fill: #174EA6;\n",
              "    }\n",
              "\n",
              "    [theme=dark] .colab-df-convert {\n",
              "      background-color: #3B4455;\n",
              "      fill: #D2E3FC;\n",
              "    }\n",
              "\n",
              "    [theme=dark] .colab-df-convert:hover {\n",
              "      background-color: #434B5C;\n",
              "      box-shadow: 0px 1px 3px 1px rgba(0, 0, 0, 0.15);\n",
              "      filter: drop-shadow(0px 1px 2px rgba(0, 0, 0, 0.3));\n",
              "      fill: #FFFFFF;\n",
              "    }\n",
              "  </style>\n",
              "\n",
              "      <script>\n",
              "        const buttonEl =\n",
              "          document.querySelector('#df-2dc98263-1657-49e3-90a6-cd55bccf7fad button.colab-df-convert');\n",
              "        buttonEl.style.display =\n",
              "          google.colab.kernel.accessAllowed ? 'block' : 'none';\n",
              "\n",
              "        async function convertToInteractive(key) {\n",
              "          const element = document.querySelector('#df-2dc98263-1657-49e3-90a6-cd55bccf7fad');\n",
              "          const dataTable =\n",
              "            await google.colab.kernel.invokeFunction('convertToInteractive',\n",
              "                                                     [key], {});\n",
              "          if (!dataTable) return;\n",
              "\n",
              "          const docLinkHtml = 'Like what you see? Visit the ' +\n",
              "            '<a target=\"_blank\" href=https://colab.research.google.com/notebooks/data_table.ipynb>data table notebook</a>'\n",
              "            + ' to learn more about interactive tables.';\n",
              "          element.innerHTML = '';\n",
              "          dataTable['output_type'] = 'display_data';\n",
              "          await google.colab.output.renderOutput(dataTable, element);\n",
              "          const docLink = document.createElement('div');\n",
              "          docLink.innerHTML = docLinkHtml;\n",
              "          element.appendChild(docLink);\n",
              "        }\n",
              "      </script>\n",
              "    </div>\n",
              "  </div>\n",
              "  "
            ],
            "text/plain": [
              "        AÑO  MES  DIA   FECHA      HORA     Caudal\n",
              "0      2015    1    1  jueves  00:00:00  1100.7567\n",
              "1      2015    1    1  jueves  00:30:00  1100.7567\n",
              "2      2015    1    1  jueves  01:00:00  1100.7567\n",
              "3      2015    1    1  jueves  01:30:00   742.7767\n",
              "4      2015    1    1  jueves  02:00:00   742.7767\n",
              "...     ...  ...  ...     ...       ...        ...\n",
              "81784  2019   12   31  martes  21:30:00   909.7567\n",
              "81785  2019   12   31  martes  22:00:00   909.7567\n",
              "81786  2019   12   31  martes  22:30:00   909.7567\n",
              "81787  2019   12   31  martes  23:00:00   909.7567\n",
              "81788  2019   12   31  martes  23:30:00   909.7567\n",
              "\n",
              "[81789 rows x 6 columns]"
            ]
          },
          "metadata": {},
          "execution_count": 4
        }
      ],
      "source": [
        "datos = pd.read_excel(io='data/datos.xlsx', sheet_name = \"Hoja1\")\n",
        "datos"
      ]
    },
    {
      "cell_type": "markdown",
      "metadata": {
        "id": "z3BRU1LY2F1C"
      },
      "source": [
        "## Verificación de valores nulos"
      ]
    },
    {
      "cell_type": "code",
      "execution_count": 5,
      "metadata": {
        "colab": {
          "base_uri": "https://localhost:8080/"
        },
        "id": "wDZP4Yt-16Uv",
        "outputId": "cf0f73f9-5794-4084-ddaa-cb05f7cb86b0"
      },
      "outputs": [
        {
          "output_type": "execute_result",
          "data": {
            "text/plain": [
              "AÑO       0\n",
              "MES       0\n",
              "DIA       0\n",
              "FECHA     0\n",
              "HORA      0\n",
              "Caudal    0\n",
              "dtype: int64"
            ]
          },
          "metadata": {},
          "execution_count": 5
        }
      ],
      "source": [
        "datos.isnull().sum()"
      ]
    },
    {
      "cell_type": "markdown",
      "metadata": {
        "id": "Tf4_tgmU2l8M"
      },
      "source": [
        "## Fecha como índice"
      ]
    },
    {
      "cell_type": "code",
      "execution_count": 6,
      "metadata": {
        "colab": {
          "base_uri": "https://localhost:8080/",
          "height": 455
        },
        "id": "AIQMpIAc2JdL",
        "outputId": "b96193ac-8d58-471f-fff0-186fc41272ba"
      },
      "outputs": [
        {
          "output_type": "execute_result",
          "data": {
            "text/html": [
              "\n",
              "  <div id=\"df-faab62df-3776-441f-ae35-15da73208ee7\">\n",
              "    <div class=\"colab-df-container\">\n",
              "      <div>\n",
              "<style scoped>\n",
              "    .dataframe tbody tr th:only-of-type {\n",
              "        vertical-align: middle;\n",
              "    }\n",
              "\n",
              "    .dataframe tbody tr th {\n",
              "        vertical-align: top;\n",
              "    }\n",
              "\n",
              "    .dataframe thead th {\n",
              "        text-align: right;\n",
              "    }\n",
              "</style>\n",
              "<table border=\"1\" class=\"dataframe\">\n",
              "  <thead>\n",
              "    <tr style=\"text-align: right;\">\n",
              "      <th></th>\n",
              "      <th>CAUDAL</th>\n",
              "    </tr>\n",
              "    <tr>\n",
              "      <th>FECHA</th>\n",
              "      <th></th>\n",
              "    </tr>\n",
              "  </thead>\n",
              "  <tbody>\n",
              "    <tr>\n",
              "      <th>2015-01-01 00:00:00</th>\n",
              "      <td>1100.7567</td>\n",
              "    </tr>\n",
              "    <tr>\n",
              "      <th>2015-01-01 00:30:00</th>\n",
              "      <td>1100.7567</td>\n",
              "    </tr>\n",
              "    <tr>\n",
              "      <th>2015-01-01 01:00:00</th>\n",
              "      <td>1100.7567</td>\n",
              "    </tr>\n",
              "    <tr>\n",
              "      <th>2015-01-01 01:30:00</th>\n",
              "      <td>742.7767</td>\n",
              "    </tr>\n",
              "    <tr>\n",
              "      <th>2015-01-01 02:00:00</th>\n",
              "      <td>742.7767</td>\n",
              "    </tr>\n",
              "    <tr>\n",
              "      <th>...</th>\n",
              "      <td>...</td>\n",
              "    </tr>\n",
              "    <tr>\n",
              "      <th>2019-12-31 21:30:00</th>\n",
              "      <td>909.7567</td>\n",
              "    </tr>\n",
              "    <tr>\n",
              "      <th>2019-12-31 22:00:00</th>\n",
              "      <td>909.7567</td>\n",
              "    </tr>\n",
              "    <tr>\n",
              "      <th>2019-12-31 22:30:00</th>\n",
              "      <td>909.7567</td>\n",
              "    </tr>\n",
              "    <tr>\n",
              "      <th>2019-12-31 23:00:00</th>\n",
              "      <td>909.7567</td>\n",
              "    </tr>\n",
              "    <tr>\n",
              "      <th>2019-12-31 23:30:00</th>\n",
              "      <td>909.7567</td>\n",
              "    </tr>\n",
              "  </tbody>\n",
              "</table>\n",
              "<p>81789 rows × 1 columns</p>\n",
              "</div>\n",
              "      <button class=\"colab-df-convert\" onclick=\"convertToInteractive('df-faab62df-3776-441f-ae35-15da73208ee7')\"\n",
              "              title=\"Convert this dataframe to an interactive table.\"\n",
              "              style=\"display:none;\">\n",
              "        \n",
              "  <svg xmlns=\"http://www.w3.org/2000/svg\" height=\"24px\"viewBox=\"0 0 24 24\"\n",
              "       width=\"24px\">\n",
              "    <path d=\"M0 0h24v24H0V0z\" fill=\"none\"/>\n",
              "    <path d=\"M18.56 5.44l.94 2.06.94-2.06 2.06-.94-2.06-.94-.94-2.06-.94 2.06-2.06.94zm-11 1L8.5 8.5l.94-2.06 2.06-.94-2.06-.94L8.5 2.5l-.94 2.06-2.06.94zm10 10l.94 2.06.94-2.06 2.06-.94-2.06-.94-.94-2.06-.94 2.06-2.06.94z\"/><path d=\"M17.41 7.96l-1.37-1.37c-.4-.4-.92-.59-1.43-.59-.52 0-1.04.2-1.43.59L10.3 9.45l-7.72 7.72c-.78.78-.78 2.05 0 2.83L4 21.41c.39.39.9.59 1.41.59.51 0 1.02-.2 1.41-.59l7.78-7.78 2.81-2.81c.8-.78.8-2.07 0-2.86zM5.41 20L4 18.59l7.72-7.72 1.47 1.35L5.41 20z\"/>\n",
              "  </svg>\n",
              "      </button>\n",
              "      \n",
              "  <style>\n",
              "    .colab-df-container {\n",
              "      display:flex;\n",
              "      flex-wrap:wrap;\n",
              "      gap: 12px;\n",
              "    }\n",
              "\n",
              "    .colab-df-convert {\n",
              "      background-color: #E8F0FE;\n",
              "      border: none;\n",
              "      border-radius: 50%;\n",
              "      cursor: pointer;\n",
              "      display: none;\n",
              "      fill: #1967D2;\n",
              "      height: 32px;\n",
              "      padding: 0 0 0 0;\n",
              "      width: 32px;\n",
              "    }\n",
              "\n",
              "    .colab-df-convert:hover {\n",
              "      background-color: #E2EBFA;\n",
              "      box-shadow: 0px 1px 2px rgba(60, 64, 67, 0.3), 0px 1px 3px 1px rgba(60, 64, 67, 0.15);\n",
              "      fill: #174EA6;\n",
              "    }\n",
              "\n",
              "    [theme=dark] .colab-df-convert {\n",
              "      background-color: #3B4455;\n",
              "      fill: #D2E3FC;\n",
              "    }\n",
              "\n",
              "    [theme=dark] .colab-df-convert:hover {\n",
              "      background-color: #434B5C;\n",
              "      box-shadow: 0px 1px 3px 1px rgba(0, 0, 0, 0.15);\n",
              "      filter: drop-shadow(0px 1px 2px rgba(0, 0, 0, 0.3));\n",
              "      fill: #FFFFFF;\n",
              "    }\n",
              "  </style>\n",
              "\n",
              "      <script>\n",
              "        const buttonEl =\n",
              "          document.querySelector('#df-faab62df-3776-441f-ae35-15da73208ee7 button.colab-df-convert');\n",
              "        buttonEl.style.display =\n",
              "          google.colab.kernel.accessAllowed ? 'block' : 'none';\n",
              "\n",
              "        async function convertToInteractive(key) {\n",
              "          const element = document.querySelector('#df-faab62df-3776-441f-ae35-15da73208ee7');\n",
              "          const dataTable =\n",
              "            await google.colab.kernel.invokeFunction('convertToInteractive',\n",
              "                                                     [key], {});\n",
              "          if (!dataTable) return;\n",
              "\n",
              "          const docLinkHtml = 'Like what you see? Visit the ' +\n",
              "            '<a target=\"_blank\" href=https://colab.research.google.com/notebooks/data_table.ipynb>data table notebook</a>'\n",
              "            + ' to learn more about interactive tables.';\n",
              "          element.innerHTML = '';\n",
              "          dataTable['output_type'] = 'display_data';\n",
              "          await google.colab.output.renderOutput(dataTable, element);\n",
              "          const docLink = document.createElement('div');\n",
              "          docLink.innerHTML = docLinkHtml;\n",
              "          element.appendChild(docLink);\n",
              "        }\n",
              "      </script>\n",
              "    </div>\n",
              "  </div>\n",
              "  "
            ],
            "text/plain": [
              "                        CAUDAL\n",
              "FECHA                         \n",
              "2015-01-01 00:00:00  1100.7567\n",
              "2015-01-01 00:30:00  1100.7567\n",
              "2015-01-01 01:00:00  1100.7567\n",
              "2015-01-01 01:30:00   742.7767\n",
              "2015-01-01 02:00:00   742.7767\n",
              "...                        ...\n",
              "2019-12-31 21:30:00   909.7567\n",
              "2019-12-31 22:00:00   909.7567\n",
              "2019-12-31 22:30:00   909.7567\n",
              "2019-12-31 23:00:00   909.7567\n",
              "2019-12-31 23:30:00   909.7567\n",
              "\n",
              "[81789 rows x 1 columns]"
            ]
          },
          "metadata": {},
          "execution_count": 6
        }
      ],
      "source": [
        "from datetime import datetime \n",
        "datos_indexados = pd.DataFrame()\n",
        "fechas_dt = []\n",
        "caudal_dt = []\n",
        "for registro in datos.values:\n",
        "    fecha = \"{}-{}-{} {}\".format(registro[0], registro[1], registro[2], registro[4])\n",
        "    fecha_dt = datetime.strptime(fecha, '%Y-%m-%d %H:%M:%S')\n",
        "    fechas_dt.append(fecha_dt)\n",
        "    caudal_dt.append(registro[5])\n",
        "datos_indexados['FECHA'] = fechas_dt\n",
        "datos_indexados['CAUDAL'] = caudal_dt\n",
        "\n",
        "datos_indexados.set_index('FECHA', drop=True, inplace = True)\n",
        "\n",
        "datos_indexados"
      ]
    },
    {
      "cell_type": "markdown",
      "metadata": {
        "id": "8IIO1Px13cq5"
      },
      "source": [
        "# División de los Datos "
      ]
    },
    {
      "cell_type": "code",
      "execution_count": 7,
      "metadata": {
        "colab": {
          "base_uri": "https://localhost:8080/",
          "height": 455
        },
        "id": "gzmKDeiL3LCe",
        "outputId": "c0c84345-7468-4a90-81c4-283b0ac4edfe"
      },
      "outputs": [
        {
          "output_type": "execute_result",
          "data": {
            "text/html": [
              "\n",
              "  <div id=\"df-b74ce938-0793-4ee9-81da-53c12205eeb4\">\n",
              "    <div class=\"colab-df-container\">\n",
              "      <div>\n",
              "<style scoped>\n",
              "    .dataframe tbody tr th:only-of-type {\n",
              "        vertical-align: middle;\n",
              "    }\n",
              "\n",
              "    .dataframe tbody tr th {\n",
              "        vertical-align: top;\n",
              "    }\n",
              "\n",
              "    .dataframe thead th {\n",
              "        text-align: right;\n",
              "    }\n",
              "</style>\n",
              "<table border=\"1\" class=\"dataframe\">\n",
              "  <thead>\n",
              "    <tr style=\"text-align: right;\">\n",
              "      <th></th>\n",
              "      <th>CAUDAL</th>\n",
              "    </tr>\n",
              "    <tr>\n",
              "      <th>FECHA</th>\n",
              "      <th></th>\n",
              "    </tr>\n",
              "  </thead>\n",
              "  <tbody>\n",
              "    <tr>\n",
              "      <th>2015-01-01 00:00:00</th>\n",
              "      <td>1100.7567</td>\n",
              "    </tr>\n",
              "    <tr>\n",
              "      <th>2015-01-01 00:30:00</th>\n",
              "      <td>1100.7567</td>\n",
              "    </tr>\n",
              "    <tr>\n",
              "      <th>2015-01-01 01:00:00</th>\n",
              "      <td>1100.7567</td>\n",
              "    </tr>\n",
              "    <tr>\n",
              "      <th>2015-01-01 01:30:00</th>\n",
              "      <td>742.7767</td>\n",
              "    </tr>\n",
              "    <tr>\n",
              "      <th>2015-01-01 02:00:00</th>\n",
              "      <td>742.7767</td>\n",
              "    </tr>\n",
              "    <tr>\n",
              "      <th>...</th>\n",
              "      <td>...</td>\n",
              "    </tr>\n",
              "    <tr>\n",
              "      <th>2019-03-31 21:30:00</th>\n",
              "      <td>711.1067</td>\n",
              "    </tr>\n",
              "    <tr>\n",
              "      <th>2019-03-31 22:00:00</th>\n",
              "      <td>711.1067</td>\n",
              "    </tr>\n",
              "    <tr>\n",
              "      <th>2019-03-31 22:30:00</th>\n",
              "      <td>711.1067</td>\n",
              "    </tr>\n",
              "    <tr>\n",
              "      <th>2019-03-31 23:00:00</th>\n",
              "      <td>711.1067</td>\n",
              "    </tr>\n",
              "    <tr>\n",
              "      <th>2019-03-31 23:30:00</th>\n",
              "      <td>711.1067</td>\n",
              "    </tr>\n",
              "  </tbody>\n",
              "</table>\n",
              "<p>68589 rows × 1 columns</p>\n",
              "</div>\n",
              "      <button class=\"colab-df-convert\" onclick=\"convertToInteractive('df-b74ce938-0793-4ee9-81da-53c12205eeb4')\"\n",
              "              title=\"Convert this dataframe to an interactive table.\"\n",
              "              style=\"display:none;\">\n",
              "        \n",
              "  <svg xmlns=\"http://www.w3.org/2000/svg\" height=\"24px\"viewBox=\"0 0 24 24\"\n",
              "       width=\"24px\">\n",
              "    <path d=\"M0 0h24v24H0V0z\" fill=\"none\"/>\n",
              "    <path d=\"M18.56 5.44l.94 2.06.94-2.06 2.06-.94-2.06-.94-.94-2.06-.94 2.06-2.06.94zm-11 1L8.5 8.5l.94-2.06 2.06-.94-2.06-.94L8.5 2.5l-.94 2.06-2.06.94zm10 10l.94 2.06.94-2.06 2.06-.94-2.06-.94-.94-2.06-.94 2.06-2.06.94z\"/><path d=\"M17.41 7.96l-1.37-1.37c-.4-.4-.92-.59-1.43-.59-.52 0-1.04.2-1.43.59L10.3 9.45l-7.72 7.72c-.78.78-.78 2.05 0 2.83L4 21.41c.39.39.9.59 1.41.59.51 0 1.02-.2 1.41-.59l7.78-7.78 2.81-2.81c.8-.78.8-2.07 0-2.86zM5.41 20L4 18.59l7.72-7.72 1.47 1.35L5.41 20z\"/>\n",
              "  </svg>\n",
              "      </button>\n",
              "      \n",
              "  <style>\n",
              "    .colab-df-container {\n",
              "      display:flex;\n",
              "      flex-wrap:wrap;\n",
              "      gap: 12px;\n",
              "    }\n",
              "\n",
              "    .colab-df-convert {\n",
              "      background-color: #E8F0FE;\n",
              "      border: none;\n",
              "      border-radius: 50%;\n",
              "      cursor: pointer;\n",
              "      display: none;\n",
              "      fill: #1967D2;\n",
              "      height: 32px;\n",
              "      padding: 0 0 0 0;\n",
              "      width: 32px;\n",
              "    }\n",
              "\n",
              "    .colab-df-convert:hover {\n",
              "      background-color: #E2EBFA;\n",
              "      box-shadow: 0px 1px 2px rgba(60, 64, 67, 0.3), 0px 1px 3px 1px rgba(60, 64, 67, 0.15);\n",
              "      fill: #174EA6;\n",
              "    }\n",
              "\n",
              "    [theme=dark] .colab-df-convert {\n",
              "      background-color: #3B4455;\n",
              "      fill: #D2E3FC;\n",
              "    }\n",
              "\n",
              "    [theme=dark] .colab-df-convert:hover {\n",
              "      background-color: #434B5C;\n",
              "      box-shadow: 0px 1px 3px 1px rgba(0, 0, 0, 0.15);\n",
              "      filter: drop-shadow(0px 1px 2px rgba(0, 0, 0, 0.3));\n",
              "      fill: #FFFFFF;\n",
              "    }\n",
              "  </style>\n",
              "\n",
              "      <script>\n",
              "        const buttonEl =\n",
              "          document.querySelector('#df-b74ce938-0793-4ee9-81da-53c12205eeb4 button.colab-df-convert');\n",
              "        buttonEl.style.display =\n",
              "          google.colab.kernel.accessAllowed ? 'block' : 'none';\n",
              "\n",
              "        async function convertToInteractive(key) {\n",
              "          const element = document.querySelector('#df-b74ce938-0793-4ee9-81da-53c12205eeb4');\n",
              "          const dataTable =\n",
              "            await google.colab.kernel.invokeFunction('convertToInteractive',\n",
              "                                                     [key], {});\n",
              "          if (!dataTable) return;\n",
              "\n",
              "          const docLinkHtml = 'Like what you see? Visit the ' +\n",
              "            '<a target=\"_blank\" href=https://colab.research.google.com/notebooks/data_table.ipynb>data table notebook</a>'\n",
              "            + ' to learn more about interactive tables.';\n",
              "          element.innerHTML = '';\n",
              "          dataTable['output_type'] = 'display_data';\n",
              "          await google.colab.output.renderOutput(dataTable, element);\n",
              "          const docLink = document.createElement('div');\n",
              "          docLink.innerHTML = docLinkHtml;\n",
              "          element.appendChild(docLink);\n",
              "        }\n",
              "      </script>\n",
              "    </div>\n",
              "  </div>\n",
              "  "
            ],
            "text/plain": [
              "                        CAUDAL\n",
              "FECHA                         \n",
              "2015-01-01 00:00:00  1100.7567\n",
              "2015-01-01 00:30:00  1100.7567\n",
              "2015-01-01 01:00:00  1100.7567\n",
              "2015-01-01 01:30:00   742.7767\n",
              "2015-01-01 02:00:00   742.7767\n",
              "...                        ...\n",
              "2019-03-31 21:30:00   711.1067\n",
              "2019-03-31 22:00:00   711.1067\n",
              "2019-03-31 22:30:00   711.1067\n",
              "2019-03-31 23:00:00   711.1067\n",
              "2019-03-31 23:30:00   711.1067\n",
              "\n",
              "[68589 rows x 1 columns]"
            ]
          },
          "metadata": {},
          "execution_count": 7
        }
      ],
      "source": [
        "division = int(0.2*datos_indexados.shape[0])\n",
        "fecha_fin_train = '2019-04-01 00:00:00'\n",
        "datos_train = datos_indexados[:datos_indexados.index.get_loc(fecha_fin_train)[0]]\n",
        "datos_test = datos_indexados[datos_indexados.index.get_loc(fecha_fin_train)[0]:]\n",
        "datos_train\n"
      ]
    },
    {
      "cell_type": "code",
      "execution_count": 8,
      "metadata": {
        "colab": {
          "base_uri": "https://localhost:8080/",
          "height": 455
        },
        "id": "FD6luPOc33jF",
        "outputId": "2325ed7e-ecbf-47d1-bd44-3c637fefc2ba"
      },
      "outputs": [
        {
          "output_type": "execute_result",
          "data": {
            "text/html": [
              "\n",
              "  <div id=\"df-8231d104-45d0-443e-baa2-260ca3426288\">\n",
              "    <div class=\"colab-df-container\">\n",
              "      <div>\n",
              "<style scoped>\n",
              "    .dataframe tbody tr th:only-of-type {\n",
              "        vertical-align: middle;\n",
              "    }\n",
              "\n",
              "    .dataframe tbody tr th {\n",
              "        vertical-align: top;\n",
              "    }\n",
              "\n",
              "    .dataframe thead th {\n",
              "        text-align: right;\n",
              "    }\n",
              "</style>\n",
              "<table border=\"1\" class=\"dataframe\">\n",
              "  <thead>\n",
              "    <tr style=\"text-align: right;\">\n",
              "      <th></th>\n",
              "      <th>CAUDAL</th>\n",
              "    </tr>\n",
              "    <tr>\n",
              "      <th>FECHA</th>\n",
              "      <th></th>\n",
              "    </tr>\n",
              "  </thead>\n",
              "  <tbody>\n",
              "    <tr>\n",
              "      <th>2019-04-01 00:00:00</th>\n",
              "      <td>711.1067</td>\n",
              "    </tr>\n",
              "    <tr>\n",
              "      <th>2019-04-01 00:30:00</th>\n",
              "      <td>711.1067</td>\n",
              "    </tr>\n",
              "    <tr>\n",
              "      <th>2019-04-01 01:00:00</th>\n",
              "      <td>711.1067</td>\n",
              "    </tr>\n",
              "    <tr>\n",
              "      <th>2019-04-01 01:30:00</th>\n",
              "      <td>711.1067</td>\n",
              "    </tr>\n",
              "    <tr>\n",
              "      <th>2019-04-01 02:00:00</th>\n",
              "      <td>711.1067</td>\n",
              "    </tr>\n",
              "    <tr>\n",
              "      <th>...</th>\n",
              "      <td>...</td>\n",
              "    </tr>\n",
              "    <tr>\n",
              "      <th>2019-12-31 21:30:00</th>\n",
              "      <td>909.7567</td>\n",
              "    </tr>\n",
              "    <tr>\n",
              "      <th>2019-12-31 22:00:00</th>\n",
              "      <td>909.7567</td>\n",
              "    </tr>\n",
              "    <tr>\n",
              "      <th>2019-12-31 22:30:00</th>\n",
              "      <td>909.7567</td>\n",
              "    </tr>\n",
              "    <tr>\n",
              "      <th>2019-12-31 23:00:00</th>\n",
              "      <td>909.7567</td>\n",
              "    </tr>\n",
              "    <tr>\n",
              "      <th>2019-12-31 23:30:00</th>\n",
              "      <td>909.7567</td>\n",
              "    </tr>\n",
              "  </tbody>\n",
              "</table>\n",
              "<p>13200 rows × 1 columns</p>\n",
              "</div>\n",
              "      <button class=\"colab-df-convert\" onclick=\"convertToInteractive('df-8231d104-45d0-443e-baa2-260ca3426288')\"\n",
              "              title=\"Convert this dataframe to an interactive table.\"\n",
              "              style=\"display:none;\">\n",
              "        \n",
              "  <svg xmlns=\"http://www.w3.org/2000/svg\" height=\"24px\"viewBox=\"0 0 24 24\"\n",
              "       width=\"24px\">\n",
              "    <path d=\"M0 0h24v24H0V0z\" fill=\"none\"/>\n",
              "    <path d=\"M18.56 5.44l.94 2.06.94-2.06 2.06-.94-2.06-.94-.94-2.06-.94 2.06-2.06.94zm-11 1L8.5 8.5l.94-2.06 2.06-.94-2.06-.94L8.5 2.5l-.94 2.06-2.06.94zm10 10l.94 2.06.94-2.06 2.06-.94-2.06-.94-.94-2.06-.94 2.06-2.06.94z\"/><path d=\"M17.41 7.96l-1.37-1.37c-.4-.4-.92-.59-1.43-.59-.52 0-1.04.2-1.43.59L10.3 9.45l-7.72 7.72c-.78.78-.78 2.05 0 2.83L4 21.41c.39.39.9.59 1.41.59.51 0 1.02-.2 1.41-.59l7.78-7.78 2.81-2.81c.8-.78.8-2.07 0-2.86zM5.41 20L4 18.59l7.72-7.72 1.47 1.35L5.41 20z\"/>\n",
              "  </svg>\n",
              "      </button>\n",
              "      \n",
              "  <style>\n",
              "    .colab-df-container {\n",
              "      display:flex;\n",
              "      flex-wrap:wrap;\n",
              "      gap: 12px;\n",
              "    }\n",
              "\n",
              "    .colab-df-convert {\n",
              "      background-color: #E8F0FE;\n",
              "      border: none;\n",
              "      border-radius: 50%;\n",
              "      cursor: pointer;\n",
              "      display: none;\n",
              "      fill: #1967D2;\n",
              "      height: 32px;\n",
              "      padding: 0 0 0 0;\n",
              "      width: 32px;\n",
              "    }\n",
              "\n",
              "    .colab-df-convert:hover {\n",
              "      background-color: #E2EBFA;\n",
              "      box-shadow: 0px 1px 2px rgba(60, 64, 67, 0.3), 0px 1px 3px 1px rgba(60, 64, 67, 0.15);\n",
              "      fill: #174EA6;\n",
              "    }\n",
              "\n",
              "    [theme=dark] .colab-df-convert {\n",
              "      background-color: #3B4455;\n",
              "      fill: #D2E3FC;\n",
              "    }\n",
              "\n",
              "    [theme=dark] .colab-df-convert:hover {\n",
              "      background-color: #434B5C;\n",
              "      box-shadow: 0px 1px 3px 1px rgba(0, 0, 0, 0.15);\n",
              "      filter: drop-shadow(0px 1px 2px rgba(0, 0, 0, 0.3));\n",
              "      fill: #FFFFFF;\n",
              "    }\n",
              "  </style>\n",
              "\n",
              "      <script>\n",
              "        const buttonEl =\n",
              "          document.querySelector('#df-8231d104-45d0-443e-baa2-260ca3426288 button.colab-df-convert');\n",
              "        buttonEl.style.display =\n",
              "          google.colab.kernel.accessAllowed ? 'block' : 'none';\n",
              "\n",
              "        async function convertToInteractive(key) {\n",
              "          const element = document.querySelector('#df-8231d104-45d0-443e-baa2-260ca3426288');\n",
              "          const dataTable =\n",
              "            await google.colab.kernel.invokeFunction('convertToInteractive',\n",
              "                                                     [key], {});\n",
              "          if (!dataTable) return;\n",
              "\n",
              "          const docLinkHtml = 'Like what you see? Visit the ' +\n",
              "            '<a target=\"_blank\" href=https://colab.research.google.com/notebooks/data_table.ipynb>data table notebook</a>'\n",
              "            + ' to learn more about interactive tables.';\n",
              "          element.innerHTML = '';\n",
              "          dataTable['output_type'] = 'display_data';\n",
              "          await google.colab.output.renderOutput(dataTable, element);\n",
              "          const docLink = document.createElement('div');\n",
              "          docLink.innerHTML = docLinkHtml;\n",
              "          element.appendChild(docLink);\n",
              "        }\n",
              "      </script>\n",
              "    </div>\n",
              "  </div>\n",
              "  "
            ],
            "text/plain": [
              "                       CAUDAL\n",
              "FECHA                        \n",
              "2019-04-01 00:00:00  711.1067\n",
              "2019-04-01 00:30:00  711.1067\n",
              "2019-04-01 01:00:00  711.1067\n",
              "2019-04-01 01:30:00  711.1067\n",
              "2019-04-01 02:00:00  711.1067\n",
              "...                       ...\n",
              "2019-12-31 21:30:00  909.7567\n",
              "2019-12-31 22:00:00  909.7567\n",
              "2019-12-31 22:30:00  909.7567\n",
              "2019-12-31 23:00:00  909.7567\n",
              "2019-12-31 23:30:00  909.7567\n",
              "\n",
              "[13200 rows x 1 columns]"
            ]
          },
          "metadata": {},
          "execution_count": 8
        }
      ],
      "source": [
        "datos_test"
      ]
    },
    {
      "cell_type": "markdown",
      "metadata": {
        "id": "lYnyU_gj8d2e"
      },
      "source": [
        "## Transformación de datos a numérica (CONFIRM)"
      ]
    },
    {
      "cell_type": "code",
      "execution_count": 9,
      "metadata": {
        "id": "XVh2hhUk36C-"
      },
      "outputs": [],
      "source": [
        "# (data_train[0:1].values)"
      ]
    },
    {
      "cell_type": "markdown",
      "metadata": {
        "id": "kbWPAGs48msw"
      },
      "source": [
        "## Normalización de los datos "
      ]
    },
    {
      "cell_type": "code",
      "execution_count": 10,
      "metadata": {
        "colab": {
          "base_uri": "https://localhost:8080/"
        },
        "id": "-9feWhgX7_yw",
        "outputId": "60cb2b81-c5cf-485a-c48a-7222e05ad2dd"
      },
      "outputs": [
        {
          "output_type": "stream",
          "name": "stdout",
          "text": [
            "(68589, 1)\n"
          ]
        },
        {
          "output_type": "execute_result",
          "data": {
            "text/plain": [
              "array([[0.70148996],\n",
              "       [0.70148996],\n",
              "       [0.70148996],\n",
              "       ...,\n",
              "       [0.49749754],\n",
              "       [0.49749754],\n",
              "       [0.49749754]])"
            ]
          },
          "metadata": {},
          "execution_count": 10
        }
      ],
      "source": [
        "from sklearn.preprocessing import MinMaxScaler\n",
        "sc = MinMaxScaler(feature_range = (0,1))\n",
        "datos_train_scaled = sc.fit_transform(datos_train)\n",
        "print(datos_train_scaled.shape)\n",
        "datos_train_scaled"
      ]
    },
    {
      "cell_type": "markdown",
      "metadata": {
        "id": "NDHBo37v8zjj"
      },
      "source": [
        "## Agrupamiento de los datos "
      ]
    },
    {
      "cell_type": "code",
      "execution_count": 11,
      "metadata": {
        "colab": {
          "base_uri": "https://localhost:8080/"
        },
        "id": "BthSJ5Ic8ufD",
        "outputId": "f0f8cb4a-4c4a-4858-f8f0-51492dbed24b"
      },
      "outputs": [
        {
          "output_type": "execute_result",
          "data": {
            "text/plain": [
              "((68519, 70), (68519,))"
            ]
          },
          "metadata": {},
          "execution_count": 11
        }
      ],
      "source": [
        "time_step = 70 \n",
        "X_train = [] \n",
        "Y_train = []\n",
        "m = len(datos_train_scaled)\n",
        "for i in range(time_step, m):\n",
        "    X_train.append(datos_train_scaled[i-time_step:i, 0]) \n",
        "    Y_train.append(datos_train_scaled[i, 0]) \n",
        "X_train, Y_train = np.array(X_train), np.array(Y_train) \n",
        "X_train.shape, Y_train.shape "
      ]
    },
    {
      "cell_type": "markdown",
      "metadata": {
        "id": "BP3s0Bwk9UwR"
      },
      "source": [
        "## Reshape de los Datos "
      ]
    },
    {
      "cell_type": "code",
      "execution_count": 12,
      "metadata": {
        "colab": {
          "base_uri": "https://localhost:8080/"
        },
        "id": "Zxr45-_H9EzN",
        "outputId": "8bc49e7b-cd79-4c78-8d24-97ac50465150"
      },
      "outputs": [
        {
          "output_type": "execute_result",
          "data": {
            "text/plain": [
              "((68519, 70, 1), (68519,))"
            ]
          },
          "metadata": {},
          "execution_count": 12
        }
      ],
      "source": [
        "#Buscamos un array de 3 dimensiones\n",
        "X_train = np.reshape(X_train, (X_train.shape[0], X_train.shape[1], 1)) \n",
        "X_train.shape, Y_train.shape"
      ]
    },
    {
      "cell_type": "markdown",
      "metadata": {
        "id": "9T-3prZO9hJG"
      },
      "source": [
        "# LSTM y Train"
      ]
    },
    {
      "cell_type": "code",
      "execution_count": 13,
      "metadata": {
        "id": "QiRAO4wz9fNB"
      },
      "outputs": [],
      "source": [
        "from keras.layers import LSTM\n",
        "from sklearn.metrics import mean_squared_error"
      ]
    },
    {
      "cell_type": "code",
      "execution_count": 14,
      "metadata": {
        "id": "HD45gAaC9nFM"
      },
      "outputs": [],
      "source": [
        "def MODEL_LSTM(optimizador, neuronas, epocas):\n",
        "    dim_entrada = (X_train.shape[1],X_train.shape[2])\n",
        "    dim_salida = 1 \n",
        "    num_neuronas = neuronas\n",
        "    model = Sequential()\n",
        "    model.add(LSTM(units=num_neuronas, return_sequences = True, input_shape=dim_entrada))\n",
        "    model.add(Dropout(0.4))\n",
        "    model.add(LSTM(units=num_neuronas))\n",
        "    model.add(Dropout(0.2))\n",
        "    model.add(Dense(units = dim_salida))\n",
        "    model.compile(optimizer= optimizador, loss='mse', metrics = ['mean_absolute_error']) #mean_squared_error\n",
        "    history = model.fit(X_train, Y_train, epochs = epocas, batch_size = 64)\n",
        "    return model, history"
      ]
    },
    {
      "cell_type": "code",
      "execution_count": 15,
      "metadata": {
        "id": "e7U9RyGIK6A8"
      },
      "outputs": [],
      "source": [
        "def predecirDataTest(modelo):\n",
        "    x_test  = datos_test.values\n",
        "    x_test = sc.transform(x_test)\n",
        "    X_test = []\n",
        "    for i in range(time_step, len(x_test)):\n",
        "        X_test.append(x_test[i-time_step: i, 0])\n",
        "    X_test= np.array(X_test)\n",
        "    X_test = np.reshape(X_test, (X_test.shape[0], X_test.shape[1], 1))\n",
        "    X_test.shape\n",
        "    prediccion = modelo.predict(X_test)\n",
        "    prediccion = sc.inverse_transform(prediccion)\n",
        "    return prediccion"
      ]
    },
    {
      "cell_type": "markdown",
      "metadata": {
        "id": "PJtvGi61LGFD"
      },
      "source": [
        "## Ejecución del modelo "
      ]
    },
    {
      "cell_type": "code",
      "execution_count": null,
      "metadata": {
        "colab": {
          "base_uri": "https://localhost:8080/"
        },
        "id": "C1kI3XbZLDxg",
        "outputId": "ee68ab84-aa30-4e1c-9a39-4a3390bf347f"
      },
      "outputs": [
        {
          "name": "stdout",
          "output_type": "stream",
          "text": [
            "Epoch 1/10\n",
            "1071/1071 [==============================] - 72s 63ms/step - loss: 0.0139 - mean_absolute_error: 0.0842\n",
            "Epoch 2/10\n",
            "1071/1071 [==============================] - 64s 60ms/step - loss: 0.0040 - mean_absolute_error: 0.0443\n",
            "Epoch 3/10\n",
            "1071/1071 [==============================] - 67s 62ms/step - loss: 0.0029 - mean_absolute_error: 0.0363\n",
            "Epoch 4/10\n",
            "1071/1071 [==============================] - 62s 58ms/step - loss: 0.0027 - mean_absolute_error: 0.0343\n",
            "Epoch 5/10\n",
            "1071/1071 [==============================] - 63s 59ms/step - loss: 0.0026 - mean_absolute_error: 0.0336\n",
            "Epoch 6/10\n",
            "1071/1071 [==============================] - 70s 65ms/step - loss: 0.0025 - mean_absolute_error: 0.0331\n",
            "Epoch 7/10\n",
            "1071/1071 [==============================] - 70s 65ms/step - loss: 0.0025 - mean_absolute_error: 0.0328\n",
            "Epoch 8/10\n",
            "1071/1071 [==============================] - 70s 65ms/step - loss: 0.0025 - mean_absolute_error: 0.0326\n",
            "Epoch 9/10\n",
            "1071/1071 [==============================] - 61s 57ms/step - loss: 0.0024 - mean_absolute_error: 0.0324\n",
            "Epoch 10/10\n",
            "1071/1071 [==============================] - 61s 57ms/step - loss: 0.0024 - mean_absolute_error: 0.0322\n"
          ]
        }
      ],
      "source": [
        "model, history = MODEL_LSTM(optimizador = 'rmsprop', neuronas = 10, epocas = 10)\n",
        "#Guardamos el modelo para no tener que entrenar otra vez para probar\n",
        "model.save('modelos/model.h5')"
      ]
    },
    {
      "cell_type": "code",
      "execution_count": null,
      "metadata": {
        "colab": {
          "base_uri": "https://localhost:8080/"
        },
        "id": "9l0qifuPLUPH",
        "outputId": "1d27a2b8-4637-4b98-865f-1763fd44ac97"
      },
      "outputs": [
        {
          "name": "stdout",
          "output_type": "stream",
          "text": [
            "Model: \"sequential\"\n",
            "_________________________________________________________________\n",
            " Layer (type)                Output Shape              Param #   \n",
            "=================================================================\n",
            " lstm (LSTM)                 (None, 70, 10)            480       \n",
            "                                                                 \n",
            " dropout (Dropout)           (None, 70, 10)            0         \n",
            "                                                                 \n",
            " lstm_1 (LSTM)               (None, 10)                840       \n",
            "                                                                 \n",
            " dropout_1 (Dropout)         (None, 10)                0         \n",
            "                                                                 \n",
            " dense (Dense)               (None, 1)                 11        \n",
            "                                                                 \n",
            "=================================================================\n",
            "Total params: 1,331\n",
            "Trainable params: 1,331\n",
            "Non-trainable params: 0\n",
            "_________________________________________________________________\n"
          ]
        }
      ],
      "source": [
        "model.summary()"
      ]
    },
    {
      "cell_type": "markdown",
      "metadata": {
        "id": "IqnqGsgJLp_R"
      },
      "source": [
        "## Validación"
      ]
    },
    {
      "cell_type": "code",
      "execution_count": 29,
      "metadata": {
        "colab": {
          "base_uri": "https://localhost:8080/"
        },
        "id": "Ct4KyIrQLhSk",
        "outputId": "23152515-e7c4-4648-fec7-ab5108d7afde"
      },
      "outputs": [
        {
          "output_type": "stream",
          "name": "stderr",
          "text": [
            "/usr/local/lib/python3.7/dist-packages/sklearn/base.py:451: UserWarning: X does not have valid feature names, but MinMaxScaler was fitted with feature names\n",
            "  \"X does not have valid feature names, but\"\n"
          ]
        }
      ],
      "source": [
        "model = keras.models.load_model('modelos/model.h5')\n",
        "prediccion = predecirDataTest(model) "
      ]
    },
    {
      "cell_type": "code",
      "execution_count": 30,
      "metadata": {
        "colab": {
          "base_uri": "https://localhost:8080/"
        },
        "id": "URq9DR5GL2eM",
        "outputId": "f465103f-520d-40ba-e228-50157115d033"
      },
      "outputs": [
        {
          "output_type": "stream",
          "name": "stderr",
          "text": [
            "/usr/local/lib/python3.7/dist-packages/sklearn/base.py:451: UserWarning: X does not have valid feature names, but MinMaxScaler was fitted with feature names\n",
            "  \"X does not have valid feature names, but\"\n"
          ]
        },
        {
          "output_type": "execute_result",
          "data": {
            "text/plain": [
              "13130"
            ]
          },
          "metadata": {},
          "execution_count": 30
        }
      ],
      "source": [
        "x_test  = datos_test.values\n",
        "x_test = sc.transform(x_test)\n",
        "# # x_test\n",
        "X_test = []\n",
        "for i in range(time_step, len(x_test)):\n",
        "    X_test.append(x_test[i-time_step: i, 0])\n",
        "X_test= np.array(X_test)\n",
        "X_test = np.reshape(X_test, (X_test.shape[0], X_test.shape[1], 1))\n",
        "X_test.shape\n",
        "prediccion = model.predict(X_test)\n",
        "prediccion = sc.inverse_transform(prediccion)\n",
        "len(prediccion)"
      ]
    },
    {
      "cell_type": "code",
      "execution_count": null,
      "metadata": {
        "colab": {
          "base_uri": "https://localhost:8080/",
          "height": 279
        },
        "id": "MWthk9FvMjdD",
        "outputId": "436480b7-5c2f-4b32-b2d0-b9fc17f91f09"
      },
      "outputs": [
        {
          "data": {
            "image/png": "[encoded data removed]",
            "text/plain": [
              "<Figure size 432x288 with 1 Axes>"
            ]
          },
          "metadata": {},
          "output_type": "display_data"
        }
      ],
      "source": [
        "plt.plot(datos_test.values[time_step:(time_step + 7*48)], color='red', label='Caudal real')\n",
        "plt.plot(prediccion[:7*48], color='blue', label='Predicción de Caudal')\n",
        "plt.xlabel('Tiempo')\n",
        "plt.ylabel('Caudal')\n",
        "plt.legend()\n",
        "plt.show()"
      ]
    },
    {
      "cell_type": "markdown",
      "metadata": {
        "id": "i3r98I1ePCTL"
      },
      "source": [
        "# Gráficos estadísticos"
      ]
    },
    {
      "cell_type": "code",
      "execution_count": 31,
      "metadata": {
        "colab": {
          "base_uri": "https://localhost:8080/",
          "height": 708
        },
        "id": "a3eVVU2eOVX5",
        "outputId": "34c0b12a-3d63-4dde-dcf7-625dcc296644"
      },
      "outputs": [
        {
          "output_type": "execute_result",
          "data": {
            "text/html": [
              "\n",
              "  <div id=\"df-3799ad18-cbae-4619-bc5d-8db0694d10d2\">\n",
              "    <div class=\"colab-df-container\">\n",
              "      <div>\n",
              "<style scoped>\n",
              "    .dataframe tbody tr th:only-of-type {\n",
              "        vertical-align: middle;\n",
              "    }\n",
              "\n",
              "    .dataframe tbody tr th {\n",
              "        vertical-align: top;\n",
              "    }\n",
              "\n",
              "    .dataframe thead th {\n",
              "        text-align: right;\n",
              "    }\n",
              "</style>\n",
              "<table border=\"1\" class=\"dataframe\">\n",
              "  <thead>\n",
              "    <tr style=\"text-align: right;\">\n",
              "      <th></th>\n",
              "      <th>CAUDAL</th>\n",
              "      <th>CAUDAL_PREDICT</th>\n",
              "    </tr>\n",
              "    <tr>\n",
              "      <th>FECHA</th>\n",
              "      <th></th>\n",
              "      <th></th>\n",
              "    </tr>\n",
              "  </thead>\n",
              "  <tbody>\n",
              "    <tr>\n",
              "      <th>2019-04-02 11:00:00</th>\n",
              "      <td>799.3067</td>\n",
              "      <td>825.831360</td>\n",
              "    </tr>\n",
              "    <tr>\n",
              "      <th>2019-04-02 11:30:00</th>\n",
              "      <td>799.3067</td>\n",
              "      <td>789.539062</td>\n",
              "    </tr>\n",
              "    <tr>\n",
              "      <th>2019-04-02 12:00:00</th>\n",
              "      <td>799.3067</td>\n",
              "      <td>781.982483</td>\n",
              "    </tr>\n",
              "    <tr>\n",
              "      <th>2019-04-02 12:30:00</th>\n",
              "      <td>799.3067</td>\n",
              "      <td>781.806580</td>\n",
              "    </tr>\n",
              "    <tr>\n",
              "      <th>2019-04-02 13:00:00</th>\n",
              "      <td>799.3067</td>\n",
              "      <td>781.471436</td>\n",
              "    </tr>\n",
              "    <tr>\n",
              "      <th>2019-04-02 13:30:00</th>\n",
              "      <td>799.3067</td>\n",
              "      <td>781.693665</td>\n",
              "    </tr>\n",
              "    <tr>\n",
              "      <th>2019-04-02 14:00:00</th>\n",
              "      <td>850.4467</td>\n",
              "      <td>782.262817</td>\n",
              "    </tr>\n",
              "    <tr>\n",
              "      <th>2019-04-02 14:30:00</th>\n",
              "      <td>850.4467</td>\n",
              "      <td>820.004089</td>\n",
              "    </tr>\n",
              "    <tr>\n",
              "      <th>2019-04-02 15:00:00</th>\n",
              "      <td>850.4467</td>\n",
              "      <td>828.358643</td>\n",
              "    </tr>\n",
              "    <tr>\n",
              "      <th>2019-04-02 15:30:00</th>\n",
              "      <td>850.4467</td>\n",
              "      <td>828.548523</td>\n",
              "    </tr>\n",
              "    <tr>\n",
              "      <th>2019-04-02 16:00:00</th>\n",
              "      <td>850.4467</td>\n",
              "      <td>828.687317</td>\n",
              "    </tr>\n",
              "    <tr>\n",
              "      <th>2019-04-02 16:30:00</th>\n",
              "      <td>850.4467</td>\n",
              "      <td>828.355469</td>\n",
              "    </tr>\n",
              "    <tr>\n",
              "      <th>2019-04-02 17:00:00</th>\n",
              "      <td>850.4467</td>\n",
              "      <td>827.851318</td>\n",
              "    </tr>\n",
              "    <tr>\n",
              "      <th>2019-04-02 17:30:00</th>\n",
              "      <td>850.4467</td>\n",
              "      <td>827.542786</td>\n",
              "    </tr>\n",
              "    <tr>\n",
              "      <th>2019-04-02 18:00:00</th>\n",
              "      <td>754.0767</td>\n",
              "      <td>827.477539</td>\n",
              "    </tr>\n",
              "    <tr>\n",
              "      <th>2019-04-02 18:30:00</th>\n",
              "      <td>754.0767</td>\n",
              "      <td>758.666382</td>\n",
              "    </tr>\n",
              "    <tr>\n",
              "      <th>2019-04-02 19:00:00</th>\n",
              "      <td>754.0767</td>\n",
              "      <td>743.614685</td>\n",
              "    </tr>\n",
              "    <tr>\n",
              "      <th>2019-04-02 19:30:00</th>\n",
              "      <td>754.0767</td>\n",
              "      <td>743.372070</td>\n",
              "    </tr>\n",
              "    <tr>\n",
              "      <th>2019-04-02 20:00:00</th>\n",
              "      <td>754.0767</td>\n",
              "      <td>743.549133</td>\n",
              "    </tr>\n",
              "    <tr>\n",
              "      <th>2019-04-02 20:30:00</th>\n",
              "      <td>754.0767</td>\n",
              "      <td>744.534729</td>\n",
              "    </tr>\n",
              "  </tbody>\n",
              "</table>\n",
              "</div>\n",
              "      <button class=\"colab-df-convert\" onclick=\"convertToInteractive('df-3799ad18-cbae-4619-bc5d-8db0694d10d2')\"\n",
              "              title=\"Convert this dataframe to an interactive table.\"\n",
              "              style=\"display:none;\">\n",
              "        \n",
              "  <svg xmlns=\"http://www.w3.org/2000/svg\" height=\"24px\"viewBox=\"0 0 24 24\"\n",
              "       width=\"24px\">\n",
              "    <path d=\"M0 0h24v24H0V0z\" fill=\"none\"/>\n",
              "    <path d=\"M18.56 5.44l.94 2.06.94-2.06 2.06-.94-2.06-.94-.94-2.06-.94 2.06-2.06.94zm-11 1L8.5 8.5l.94-2.06 2.06-.94-2.06-.94L8.5 2.5l-.94 2.06-2.06.94zm10 10l.94 2.06.94-2.06 2.06-.94-2.06-.94-.94-2.06-.94 2.06-2.06.94z\"/><path d=\"M17.41 7.96l-1.37-1.37c-.4-.4-.92-.59-1.43-.59-.52 0-1.04.2-1.43.59L10.3 9.45l-7.72 7.72c-.78.78-.78 2.05 0 2.83L4 21.41c.39.39.9.59 1.41.59.51 0 1.02-.2 1.41-.59l7.78-7.78 2.81-2.81c.8-.78.8-2.07 0-2.86zM5.41 20L4 18.59l7.72-7.72 1.47 1.35L5.41 20z\"/>\n",
              "  </svg>\n",
              "      </button>\n",
              "      \n",
              "  <style>\n",
              "    .colab-df-container {\n",
              "      display:flex;\n",
              "      flex-wrap:wrap;\n",
              "      gap: 12px;\n",
              "    }\n",
              "\n",
              "    .colab-df-convert {\n",
              "      background-color: #E8F0FE;\n",
              "      border: none;\n",
              "      border-radius: 50%;\n",
              "      cursor: pointer;\n",
              "      display: none;\n",
              "      fill: #1967D2;\n",
              "      height: 32px;\n",
              "      padding: 0 0 0 0;\n",
              "      width: 32px;\n",
              "    }\n",
              "\n",
              "    .colab-df-convert:hover {\n",
              "      background-color: #E2EBFA;\n",
              "      box-shadow: 0px 1px 2px rgba(60, 64, 67, 0.3), 0px 1px 3px 1px rgba(60, 64, 67, 0.15);\n",
              "      fill: #174EA6;\n",
              "    }\n",
              "\n",
              "    [theme=dark] .colab-df-convert {\n",
              "      background-color: #3B4455;\n",
              "      fill: #D2E3FC;\n",
              "    }\n",
              "\n",
              "    [theme=dark] .colab-df-convert:hover {\n",
              "      background-color: #434B5C;\n",
              "      box-shadow: 0px 1px 3px 1px rgba(0, 0, 0, 0.15);\n",
              "      filter: drop-shadow(0px 1px 2px rgba(0, 0, 0, 0.3));\n",
              "      fill: #FFFFFF;\n",
              "    }\n",
              "  </style>\n",
              "\n",
              "      <script>\n",
              "        const buttonEl =\n",
              "          document.querySelector('#df-3799ad18-cbae-4619-bc5d-8db0694d10d2 button.colab-df-convert');\n",
              "        buttonEl.style.display =\n",
              "          google.colab.kernel.accessAllowed ? 'block' : 'none';\n",
              "\n",
              "        async function convertToInteractive(key) {\n",
              "          const element = document.querySelector('#df-3799ad18-cbae-4619-bc5d-8db0694d10d2');\n",
              "          const dataTable =\n",
              "            await google.colab.kernel.invokeFunction('convertToInteractive',\n",
              "                                                     [key], {});\n",
              "          if (!dataTable) return;\n",
              "\n",
              "          const docLinkHtml = 'Like what you see? Visit the ' +\n",
              "            '<a target=\"_blank\" href=https://colab.research.google.com/notebooks/data_table.ipynb>data table notebook</a>'\n",
              "            + ' to learn more about interactive tables.';\n",
              "          element.innerHTML = '';\n",
              "          dataTable['output_type'] = 'display_data';\n",
              "          await google.colab.output.renderOutput(dataTable, element);\n",
              "          const docLink = document.createElement('div');\n",
              "          docLink.innerHTML = docLinkHtml;\n",
              "          element.appendChild(docLink);\n",
              "        }\n",
              "      </script>\n",
              "    </div>\n",
              "  </div>\n",
              "  "
            ],
            "text/plain": [
              "                       CAUDAL  CAUDAL_PREDICT\n",
              "FECHA                                        \n",
              "2019-04-02 11:00:00  799.3067      825.831360\n",
              "2019-04-02 11:30:00  799.3067      789.539062\n",
              "2019-04-02 12:00:00  799.3067      781.982483\n",
              "2019-04-02 12:30:00  799.3067      781.806580\n",
              "2019-04-02 13:00:00  799.3067      781.471436\n",
              "2019-04-02 13:30:00  799.3067      781.693665\n",
              "2019-04-02 14:00:00  850.4467      782.262817\n",
              "2019-04-02 14:30:00  850.4467      820.004089\n",
              "2019-04-02 15:00:00  850.4467      828.358643\n",
              "2019-04-02 15:30:00  850.4467      828.548523\n",
              "2019-04-02 16:00:00  850.4467      828.687317\n",
              "2019-04-02 16:30:00  850.4467      828.355469\n",
              "2019-04-02 17:00:00  850.4467      827.851318\n",
              "2019-04-02 17:30:00  850.4467      827.542786\n",
              "2019-04-02 18:00:00  754.0767      827.477539\n",
              "2019-04-02 18:30:00  754.0767      758.666382\n",
              "2019-04-02 19:00:00  754.0767      743.614685\n",
              "2019-04-02 19:30:00  754.0767      743.372070\n",
              "2019-04-02 20:00:00  754.0767      743.549133\n",
              "2019-04-02 20:30:00  754.0767      744.534729"
            ]
          },
          "metadata": {},
          "execution_count": 31
        }
      ],
      "source": [
        "#Unión de datos \n",
        "datos_test_adj  = datos_test[time_step:].copy()\n",
        "datos_test_pred = pd.concat([datos_test_adj, \n",
        "                  pd.DataFrame(prediccion, \n",
        "                               columns=['CAUDAL_PREDICT'], \n",
        "                               index = datos_test_adj.index)], \n",
        "                 axis =1)\n",
        "datos_test_pred.head(20)"
      ]
    },
    {
      "cell_type": "code",
      "execution_count": 32,
      "metadata": {
        "colab": {
          "base_uri": "https://localhost:8080/",
          "height": 417
        },
        "id": "hDwvBnkPPjid",
        "outputId": "879a7743-05ca-4dc5-ea1b-52b482c2e2c5"
      },
      "outputs": [
        {
          "output_type": "display_data",
          "data": {
            "image/png": "[encoded data removed]",
            "text/plain": [
              "<Figure size 720x432 with 1 Axes>"
            ]
          },
          "metadata": {
            "needs_background": "light"
          }
        }
      ],
      "source": [
        "# Figura 5.8: Curva del caudal pronosticado\n",
        "#Los primeros 7 dias(completos) de la prediccion (3 de abril)\n",
        "semana_estudio_test_pred = datos_test_pred[\n",
        "    datos_test_pred.index.get_loc('2019-04-03 00:00:00')[0]:\n",
        "    datos_test_pred.index.get_loc('2019-04-09 00:00:00')[0]]\n",
        "\n",
        "semana_estudio_test = semana_estudio_test_pred['CAUDAL']\n",
        "semana_estudio_pred = semana_estudio_test_pred['CAUDAL_PREDICT']\n",
        "plt.figure(figsize=(10,6))\n",
        "plt.plot(semana_estudio_pred, \n",
        "           color='red', \n",
        "           label='Datos Pronosticados')\n",
        "plt.suptitle('CURVA DEL CAUDAL PRONOSTICADO',\n",
        "            fontsize = 18,\n",
        "            fontweight = 'bold',\n",
        "            fontfamily='serif')\n",
        "plt.legend()\n",
        "plt.show()"
      ]
    },
    {
      "cell_type": "code",
      "execution_count": null,
      "metadata": {
        "colab": {
          "base_uri": "https://localhost:8080/"
        },
        "id": "z7D-ofzlQgIv",
        "outputId": "92c47b1e-e032-48d5-8ec6-0b973b09dce7"
      },
      "outputs": [
        {
          "name": "stdout",
          "output_type": "stream",
          "text": [
            "Máximo = 1373.87255859375\n",
            "Mínimo = 379.4272155761719\n",
            "Rango = 994.4453430175781\n",
            "Media = 913.7523803710938\n",
            "Mediana = 831.8135375976562\n",
            "Varianza = 37904.2421875\n",
            "Desviación Estándar = 194.35182189941406\n",
            "Coeficiente de variación = 21.26963782250108 %\n",
            "Límite máximo = 1108.1042022705078\n",
            "Límite mínimo = 719.4005584716797\n"
          ]
        },
        {
          "data": {
            "text/plain": [
              "count     288.000000\n",
              "mean      913.752380\n",
              "std       194.690125\n",
              "min       379.427216\n",
              "25%       787.409637\n",
              "50%       831.813538\n",
              "75%      1084.098694\n",
              "max      1373.872559\n",
              "Name: CAUDAL_PREDICT, dtype: float64"
            ]
          },
          "execution_count": 65,
          "metadata": {},
          "output_type": "execute_result"
        }
      ],
      "source": [
        "# Tabla 5.2: Análisis descriptiva con datos reales del caudal\n",
        "maximo = np.max(semana_estudio_pred)\n",
        "print('Máximo = {}'.format(maximo))\n",
        "minimo = np.min(semana_estudio_pred)\n",
        "print('Mínimo = {}'.format(minimo))\n",
        "rango = maximo - minimo\n",
        "print('Rango = {}'.format(rango))\n",
        "media = np.mean(semana_estudio_pred)\n",
        "print('Media = {}'.format(media))\n",
        "mediana = semana_estudio_pred.median()\n",
        "print('Mediana = {}'.format(mediana))\n",
        "varianza = semana_estudio_pred.var()\n",
        "print('Varianza = {}'.format(varianza))\n",
        "std = np.std(semana_estudio_pred)\n",
        "print('Desviación Estándar = {}'.format(std))\n",
        "coef_var = np.std(semana_estudio_pred) /np.mean(semana_estudio_pred) * 100\n",
        "print('Coeficiente de variación = {} %'.format(coef_var))\n",
        "lim_max = media + 1 * std\n",
        "lim_min = media - 1 * std\n",
        "print('Límite máximo = {}'.format(lim_max))\n",
        "print('Límite mínimo = {}'.format(lim_min))\n",
        "\n",
        "semana_estudio_pred.describe()"
      ]
    },
    {
      "cell_type": "code",
      "execution_count": null,
      "metadata": {
        "id": "ahD_jgI4Rjdn"
      },
      "outputs": [],
      "source": [
        "def funcionConstante(x, constante):\n",
        "    return constante"
      ]
    },
    {
      "cell_type": "code",
      "execution_count": null,
      "metadata": {
        "colab": {
          "base_uri": "https://localhost:8080/",
          "height": 435
        },
        "id": "0LpzFX4XRm0O",
        "outputId": "130455c8-4fe4-47d0-8d13-c0d829853deb"
      },
      "outputs": [
        {
          "data": {
            "text/plain": [
              "<matplotlib.legend.Legend at 0x7f332115ed90>"
            ]
          },
          "execution_count": 68,
          "metadata": {},
          "output_type": "execute_result"
        },
        {
          "data": {
            "image/png": "[encoded data removed]",
            "text/plain": [
              "<Figure size 720x432 with 1 Axes>"
            ]
          },
          "metadata": {},
          "output_type": "display_data"
        }
      ],
      "source": [
        "# Figura 5.9: Desviación estándar con datos del caudal pronosticada\n",
        "\n",
        "plt.figure(figsize=(10,6))\n",
        "plt.plot(semana_estudio_pred.index,\n",
        "         semana_estudio_pred, \n",
        "         color = 'blue', \n",
        "         label = 'CAUDAL')\n",
        "plt.plot(semana_estudio_pred.index,\n",
        "         [funcionConstante(x, media) for x in semana_estudio_pred], \n",
        "         color = 'green', \n",
        "         label = 'PROMEDIO')\n",
        "\n",
        "plt.plot(semana_estudio_pred.index,\n",
        "           [funcionConstante(x, lim_max) for x in semana_estudio_pred], \n",
        "           color = 'purple', \n",
        "           label = 'LÍMITE MÁXIMO')\n",
        "\n",
        "plt.plot(semana_estudio_pred.index,\n",
        "           [funcionConstante(x, lim_min) for x in semana_estudio_pred], \n",
        "           color = 'gray', \n",
        "           label = 'LÍMITE MÍNIMO')\n",
        "\n",
        "\n",
        "plt.suptitle('DESVIACIÓN ESTÁNDAR',\n",
        "            fontsize = 18,\n",
        "            fontweight = 'bold',\n",
        "            fontfamily='serif')\n",
        "plt.legend()"
      ]
    },
    {
      "cell_type": "code",
      "execution_count": null,
      "metadata": {
        "colab": {
          "base_uri": "https://localhost:8080/"
        },
        "id": "PPxRvqUjR7UA",
        "outputId": "1fea7322-a6f3-42da-bc51-322b7a832618"
      },
      "outputs": [
        {
          "data": {
            "text/plain": [
              "FECHA\n",
              "2019-04-03 00:00:00    702.208923\n",
              "2019-04-03 00:30:00    702.182373\n",
              "2019-04-03 01:00:00    701.942200\n",
              "2019-04-03 01:30:00    807.044617\n",
              "2019-04-03 02:00:00    831.083923\n",
              "                          ...    \n",
              "2019-04-08 21:30:00    999.517395\n",
              "2019-04-08 22:00:00    996.801697\n",
              "2019-04-08 22:30:00    929.523926\n",
              "2019-04-08 23:00:00    919.796631\n",
              "2019-04-08 23:30:00    921.377686\n",
              "Name: CAUDAL_PREDICT, Length: 288, dtype: float32"
            ]
          },
          "execution_count": 69,
          "metadata": {},
          "output_type": "execute_result"
        }
      ],
      "source": [
        "# Figura 5.10: Capacidades del proceso para el caudal (datos pronosticados - 1 semana)\n",
        "#Exportacion de datos para sixpack capability system\n",
        "semana_estudio_pred.to_csv('capabilities/prediccion_abril.csv')\n",
        "semana_estudio_pred"
      ]
    },
    {
      "cell_type": "code",
      "execution_count": null,
      "metadata": {
        "colab": {
          "base_uri": "https://localhost:8080/",
          "height": 435
        },
        "id": "qXDIkEEJSXQ1",
        "outputId": "d5261d08-533c-42dd-8551-74a995f9c79c"
      },
      "outputs": [
        {
          "data": {
            "text/plain": [
              "<matplotlib.legend.Legend at 0x7f33226e9650>"
            ]
          },
          "execution_count": 74,
          "metadata": {},
          "output_type": "execute_result"
        },
        {
          "data": {
            "image/png": "[encoded data removed]",
            "text/plain": [
              "<Figure size 720x432 with 1 Axes>"
            ]
          },
          "metadata": {},
          "output_type": "display_data"
        }
      ],
      "source": [
        "# Figura 5.11: Caudal diario con datos obtenidos del pronostico\n",
        "# Caudal vs Hora del dia \n",
        "\n",
        "tres_abril_predict = semana_estudio_pred[\n",
        "    semana_estudio_pred.index.get_loc('2019-04-03 00:00:00'):\n",
        "    semana_estudio_pred.index.get_loc('2019-04-04 00:00:00')]\n",
        "cuatro_abril_predict = semana_estudio_pred[\n",
        "    semana_estudio_pred.index.get_loc('2019-04-04 00:00:00'):\n",
        "    semana_estudio_pred.index.get_loc('2019-04-05 00:00:00')]\n",
        "\n",
        "serie = range(0,48)\n",
        "plt.figure(figsize=(10,6))\n",
        "plt.plot(serie,\n",
        "         tres_abril_predict,\n",
        "         color = 'blue', \n",
        "         label = 'Día 3 de Abril')\n",
        "\n",
        "plt.plot(serie, \n",
        "            cuatro_abril_predict, \n",
        "            color = 'red', \n",
        "            label = 'Día 4 de Abril')\n",
        "\n",
        "plt.suptitle('CAUDAL DIARIO',\n",
        "            fontsize = 18,\n",
        "            fontweight = 'bold',\n",
        "            fontfamily='serif')\n",
        "plt.legend()"
      ]
    },
    {
      "cell_type": "code",
      "execution_count": null,
      "metadata": {
        "colab": {
          "base_uri": "https://localhost:8080/"
        },
        "id": "-30qjrMXUX1l",
        "outputId": "4389d06a-2a52-4984-9d40-6a3b2d28c7a5"
      },
      "outputs": [
        {
          "data": {
            "text/plain": [
              "FECHA\n",
              "2019-04-03 00:00:00    702.208923\n",
              "2019-04-03 00:30:00    702.182373\n",
              "2019-04-03 01:00:00    701.942200\n",
              "2019-04-03 01:30:00    807.044617\n",
              "2019-04-03 02:00:00    831.083923\n",
              "2019-04-03 02:30:00    830.676758\n",
              "2019-04-03 03:00:00    829.548035\n",
              "2019-04-03 03:30:00    827.578064\n",
              "2019-04-03 04:00:00    825.404419\n",
              "2019-04-03 04:30:00    823.900513\n",
              "2019-04-03 05:00:00    823.177673\n",
              "2019-04-03 05:30:00    823.073303\n",
              "2019-04-03 06:00:00    823.372375\n",
              "2019-04-03 06:30:00    823.878357\n",
              "2019-04-03 07:00:00    824.458984\n",
              "2019-04-03 07:30:00    788.057617\n",
              "2019-04-03 08:00:00    780.745056\n",
              "2019-04-03 08:30:00    781.205322\n",
              "2019-04-03 09:00:00    781.658813\n",
              "2019-04-03 09:30:00    782.517395\n",
              "2019-04-03 10:00:00    783.486389\n",
              "2019-04-03 10:30:00    784.227539\n",
              "2019-04-03 11:00:00    784.692078\n",
              "2019-04-03 11:30:00    822.131958\n",
              "2019-04-03 12:00:00    830.140869\n",
              "2019-04-03 12:30:00    830.037048\n",
              "2019-04-03 13:00:00    829.967346\n",
              "2019-04-03 13:30:00    829.489441\n",
              "2019-04-03 14:00:00    828.868835\n",
              "2019-04-03 14:30:00    828.453125\n",
              "2019-04-03 15:00:00    828.285339\n",
              "2019-04-03 15:30:00    828.313416\n",
              "2019-04-03 16:00:00    828.467712\n",
              "2019-04-03 16:30:00    828.683472\n",
              "2019-04-03 17:00:00    828.918091\n",
              "2019-04-03 17:30:00    829.150818\n",
              "2019-04-03 18:00:00    829.375000\n",
              "2019-04-03 18:30:00    829.589478\n",
              "2019-04-03 19:00:00    829.792847\n",
              "2019-04-03 19:30:00    829.983093\n",
              "2019-04-03 20:00:00    830.158630\n",
              "2019-04-03 20:30:00    830.318359\n",
              "2019-04-03 21:00:00    830.462708\n",
              "2019-04-03 21:30:00    830.592163\n",
              "2019-04-03 22:00:00    830.708313\n",
              "2019-04-03 22:30:00    793.773560\n",
              "2019-04-03 23:00:00    785.986572\n",
              "2019-04-03 23:30:00    785.992249\n",
              "Name: CAUDAL_PREDICT, dtype: float32"
            ]
          },
          "execution_count": 75,
          "metadata": {},
          "output_type": "execute_result"
        }
      ],
      "source": [
        "# Figura 5.12: Capacidades del proceso para el caudal (datos pronosticados - 1 día)\n",
        "# exportamos los datos del dia 3 de abril \n",
        "tres_abril_predict.to_csv('capabilities/datos_tresAbril_pred.csv')\n",
        "tres_abril_predict"
      ]
    },
    {
      "cell_type": "code",
      "execution_count": null,
      "metadata": {
        "colab": {
          "base_uri": "https://localhost:8080/"
        },
        "id": "kt2qLj-EU_TI",
        "outputId": "349be2c2-ab69-44dc-8aa3-ab9588159ec8"
      },
      "outputs": [
        {
          "data": {
            "text/plain": [
              "count     48.000000\n",
              "mean     809.869934\n",
              "std       33.628323\n",
              "min      701.942200\n",
              "25%      787.541275\n",
              "50%      827.931702\n",
              "75%      829.640320\n",
              "max      831.083923\n",
              "Name: CAUDAL_PREDICT, dtype: float64"
            ]
          },
          "execution_count": 76,
          "metadata": {},
          "output_type": "execute_result"
        }
      ],
      "source": [
        "tres_abril_predict.describe()"
      ]
    },
    {
      "cell_type": "code",
      "execution_count": null,
      "metadata": {
        "colab": {
          "base_uri": "https://localhost:8080/",
          "height": 417
        },
        "id": "zn_oIQDPVj8-",
        "outputId": "7454ed74-fc83-48f3-f54e-28bbbdec7370"
      },
      "outputs": [
        {
          "data": {
            "image/png": "[encoded data removed]",
            "text/plain": [
              "<Figure size 720x432 with 1 Axes>"
            ]
          },
          "metadata": {},
          "output_type": "display_data"
        }
      ],
      "source": [
        "# Figura 5.13: Curva del caudal real vs pronosticado\n",
        "#Pronostico para los dias en estudio\n",
        "plt.figure(figsize=(10,6))\n",
        "plt.plot(semana_estudio_test, \n",
        "         color='red', \n",
        "         label='Caudal real')\n",
        "plt.plot(semana_estudio_pred, \n",
        "         color='blue', \n",
        "         label='Predicción de caudal')\n",
        "plt.suptitle('CURVA DEL CAUDAL',\n",
        "            fontsize = 18,\n",
        "            fontweight = 'bold',\n",
        "            fontfamily='serif')\n",
        "plt.legend()\n",
        "plt.show()"
      ]
    },
    {
      "cell_type": "code",
      "execution_count": null,
      "metadata": {
        "colab": {
          "base_uri": "https://localhost:8080/",
          "height": 417
        },
        "id": "Q2x_AlEsWBzl",
        "outputId": "cba91414-52cc-4183-b576-845b0878de0b"
      },
      "outputs": [
        {
          "data": {
            "image/png": "[encoded data removed]",
            "text/plain": [
              "<Figure size 720x432 with 1 Axes>"
            ]
          },
          "metadata": {},
          "output_type": "display_data"
        }
      ],
      "source": [
        "#Figura 5.14: Gráfica de error entre curva del caudal real y pronosticado (semanal)\n",
        "\n",
        "x = semana_estudio_test.index\n",
        "y = semana_estudio_test\n",
        "\n",
        "x_pred = x\n",
        "y_pred = semana_estudio_pred\n",
        "\n",
        "me =  (abs(y- y_pred)).mean(axis=0)\n",
        "yerror = me\n",
        "plt.figure(figsize=(10,6))\n",
        "plt.plot(semana_estudio_test.index, \n",
        "         semana_estudio_test,\n",
        "         color='yellow', \n",
        "         label='Caudal real')\n",
        "plt.errorbar(x_pred,\n",
        "         y_pred,\n",
        "         yerr = yerror,\n",
        "         ecolor = 'blue', \n",
        "         elinewidth = 0.5,\n",
        "         capsize = 1,\n",
        "         errorevery = 3,\n",
        "         color='red', \n",
        "         label='Predicción de caudal')\n",
        "plt.suptitle('CURVA DEL CAUDAL',\n",
        "            fontsize = 18,\n",
        "            fontweight = 'bold',\n",
        "            fontfamily='serif')\n",
        "plt.legend()\n",
        "plt.show()"
      ]
    },
    {
      "cell_type": "code",
      "execution_count": null,
      "metadata": {
        "colab": {
          "base_uri": "https://localhost:8080/",
          "height": 637
        },
        "id": "f8ryWZvQWaEH",
        "outputId": "69edd2e0-6807-4190-aa0f-89de36957eaa"
      },
      "outputs": [
        {
          "name": "stdout",
          "output_type": "stream",
          "text": [
            "0      00:00:00\n",
            "1      00:30:00\n",
            "2      01:00:00\n",
            "3      01:30:00\n",
            "4      02:00:00\n",
            "         ...   \n",
            "283    21:30:00\n",
            "284    22:00:00\n",
            "285    22:30:00\n",
            "286    23:00:00\n",
            "287    23:30:00\n",
            "Name: HORA, Length: 288, dtype: object\n"
          ]
        },
        {
          "data": {
            "image/png": "[encoded data removed]",
            "text/plain": [
              "<Figure size 720x432 with 1 Axes>"
            ]
          },
          "metadata": {},
          "output_type": "display_data"
        }
      ],
      "source": [
        "# Figura 5.15: Intervalos del caudal (Datos reales y de pronóstico – 1 semana)\n",
        "\n",
        "data_pred_test_hora = semana_estudio_test_pred.copy()\n",
        "horas = datos['HORA'].iloc[:data_pred_test_hora['CAUDAL_PREDICT'].size]\n",
        "print(horas)\n",
        "horas_df = pd.DataFrame(horas, columns=['HORA'])\n",
        "caudal_real_df = pd.DataFrame(data_pred_test_hora['CAUDAL'].values, columns=['CAUDAL'] )\n",
        "caudal_real_df\n",
        "data_pred_test_hora = pd.concat([caudal_real_df, \n",
        "                  horas_df], \n",
        "                 axis =1)\n",
        "# data_pred_test_hora.set_index('HORA', drop=True, inplace= True)\n",
        "data_pred_test_hora\n",
        "\n",
        "\n",
        "\n",
        "plt.figure(figsize=(10,6))\n",
        "plt.scatter(data_pred_test_hora.index,\n",
        "               data_pred_test_hora['CAUDAL'], \n",
        "               color='blue', \n",
        "               label='Caudal real')\n",
        "\n",
        "plt.suptitle('Gráfica de intervalos de CAUDAL',\n",
        "            fontsize = 18,\n",
        "            fontweight = 'bold',\n",
        "            fontfamily='serif')\n",
        "plt.ylabel('CAUDAL')\n",
        "plt.legend()\n",
        "plt.show()"
      ]
    },
    {
      "cell_type": "code",
      "execution_count": null,
      "metadata": {
        "colab": {
          "base_uri": "https://localhost:8080/",
          "height": 417
        },
        "id": "W05GgLrlW5Ct",
        "outputId": "d7037150-1a35-4af5-8b62-9cd7249bfb96"
      },
      "outputs": [
        {
          "data": {
            "image/png": "[encoded data removed]",
            "text/plain": [
              "<Figure size 720x432 with 1 Axes>"
            ]
          },
          "metadata": {},
          "output_type": "display_data"
        }
      ],
      "source": [
        "caudal_pred_df = pd.DataFrame(semana_estudio_test_pred['CAUDAL_PREDICT'].values, columns=['CAUDAL_PREDICT'] )\n",
        "caudal_pred_df\n",
        "data_pred_test_hora = pd.concat([caudal_pred_df, \n",
        "                  horas_df], \n",
        "                 axis =1)\n",
        "\n",
        "plt.figure(figsize=(10,6))\n",
        "plt.scatter(data_pred_test_hora.index,\n",
        "               data_pred_test_hora['CAUDAL_PREDICT'], \n",
        "               color='blue', \n",
        "               label='Caudal Predicción')\n",
        "\n",
        "plt.suptitle('Gráfica de intervalos de CAUDAL',\n",
        "            fontsize = 18,\n",
        "            fontweight = 'bold',\n",
        "            fontfamily='serif')\n",
        "plt.ylabel('CAUDAL')\n",
        "plt.legend()\n",
        "plt.show()"
      ]
    },
    {
      "cell_type": "code",
      "execution_count": null,
      "metadata": {
        "colab": {
          "base_uri": "https://localhost:8080/",
          "height": 435
        },
        "id": "mnFmKMIUe4cw",
        "outputId": "646e0c9c-09d3-4761-c282-7f032bec7aff"
      },
      "outputs": [
        {
          "data": {
            "text/plain": [
              "<matplotlib.legend.Legend at 0x7f3321596c50>"
            ]
          },
          "execution_count": 132,
          "metadata": {},
          "output_type": "execute_result"
        },
        {
          "data": {
            "image/png": "[encoded data removed]",
            "text/plain": [
              "<Figure size 720x432 with 1 Axes>"
            ]
          },
          "metadata": {},
          "output_type": "display_data"
        }
      ],
      "source": [
        "# Figura 5.16: Curva caudal real vs pronosticado (Diario)\n",
        "dia_abril_pred = semana_estudio_pred[\n",
        "    semana_estudio_pred.index.get_loc('2019-04-04 00:00:00'):\n",
        "    semana_estudio_pred.index.get_loc('2019-04-05 00:00:00')]\n",
        "\n",
        "dia_abril_test = semana_estudio_test[\n",
        "    semana_estudio_test.index.get_loc('2019-04-04 00:00:00'):\n",
        "    semana_estudio_test.index.get_loc('2019-04-05 00:00:00')]\n",
        "serie = range(0,48)\n",
        "plt.figure(figsize=(10,6))\n",
        "plt.plot(serie,\n",
        "         dia_abril_test,\n",
        "         color = 'blue', \n",
        "         label = 'CAUDAL REAL')\n",
        "\n",
        "plt.plot(serie, \n",
        "         dia_abril_pred, \n",
        "         color = 'red', \n",
        "         label = 'CAUDAL PRONOSTICADO')\n",
        "\n",
        "plt.suptitle('CURVA DEL CAUDAL DIARIO',\n",
        "            fontsize = 18,\n",
        "            fontweight = 'bold',\n",
        "            fontfamily='serif')\n",
        "plt.legend()"
      ]
    },
    {
      "cell_type": "code",
      "execution_count": null,
      "metadata": {
        "colab": {
          "base_uri": "https://localhost:8080/",
          "height": 435
        },
        "id": "-kEU0KRqg6MN",
        "outputId": "61d1bcb3-6499-40a2-d701-ae4e7ac084ea"
      },
      "outputs": [
        {
          "name": "stdout",
          "output_type": "stream",
          "text": [
            "48.48843738911945\n"
          ]
        },
        {
          "data": {
            "image/png": "[encoded data removed]",
            "text/plain": [
              "<Figure size 720x432 with 1 Axes>"
            ]
          },
          "metadata": {},
          "output_type": "display_data"
        }
      ],
      "source": [
        "# Figura 5.17: Grafica de error entre curva del caudal real y pronosticado (Diario)\n",
        "x = dia_abril_test.index\n",
        "y = dia_abril_test\n",
        "\n",
        "x_pred = x\n",
        "y_pred = dia_abril_pred\n",
        "\n",
        "me =  (abs(y- y_pred)).mean(axis=0) \n",
        "print(me)\n",
        "yerror = me\n",
        "plt.figure(figsize=(10,6))\n",
        "plt.plot(x, \n",
        "         y,\n",
        "         color='yellow', \n",
        "         label='Caudal real')\n",
        "plt.errorbar(x_pred,\n",
        "         y_pred,\n",
        "         yerr = yerror,\n",
        "         ecolor = 'blue', \n",
        "         elinewidth = 0.5,\n",
        "         capsize = 1,\n",
        "         color='red', \n",
        "         label='Predicción de caudal')\n",
        "plt.suptitle('CURVA DEL CAUDAL',\n",
        "            fontsize = 18,\n",
        "            fontweight = 'bold',\n",
        "            fontfamily='serif')\n",
        "plt.legend()\n",
        "plt.show()"
      ]
    },
    {
      "cell_type": "code",
      "execution_count": null,
      "metadata": {
        "colab": {
          "base_uri": "https://localhost:8080/",
          "height": 417
        },
        "id": "7ukqDJTNhV6J",
        "outputId": "63cac429-749e-4526-9995-b0185761628f"
      },
      "outputs": [
        {
          "data": {
            "image/png": "[encoded data removed]",
            "text/plain": [
              "<Figure size 720x432 with 1 Axes>"
            ]
          },
          "metadata": {},
          "output_type": "display_data"
        }
      ],
      "source": [
        "# Figura 5.18: Intervalos del caudal (Datos reales y de pronóstico - 1dia)\n",
        "plt.figure(figsize=(10,6))\n",
        "plt.scatter(x,\n",
        "            y, \n",
        "            color='blue', \n",
        "            label='Caudal real')\n",
        "\n",
        "plt.suptitle('Gráfica de intervalos del Caudal',\n",
        "            fontsize = 18,\n",
        "            fontweight = 'bold',\n",
        "            fontfamily='serif')\n",
        "plt.ylabel('CAUDAL')\n",
        "plt.show()"
      ]
    },
    {
      "cell_type": "code",
      "execution_count": null,
      "metadata": {
        "colab": {
          "base_uri": "https://localhost:8080/",
          "height": 417
        },
        "id": "geGyfjuKhiuq",
        "outputId": "2556cb26-a50b-4b76-855e-b387e125f288"
      },
      "outputs": [
        {
          "data": {
            "image/png": "[encoded data removed]",
            "text/plain": [
              "<Figure size 720x432 with 1 Axes>"
            ]
          },
          "metadata": {},
          "output_type": "display_data"
        }
      ],
      "source": [
        "plt.figure(figsize=(10,6))\n",
        "plt.scatter(x_pred,\n",
        "            y_pred, \n",
        "            color='blue', \n",
        "            label='Caudal pronosticado')\n",
        "\n",
        "plt.suptitle('Gráfica de intervalos de Caudal',\n",
        "            fontsize = 18,\n",
        "            fontweight = 'bold',\n",
        "            fontfamily='serif')\n",
        "plt.ylabel('CAUDAL')\n",
        "plt.show()"
      ]
    },
    {
      "cell_type": "code",
      "execution_count": null,
      "metadata": {
        "id": "k59_VSMfhvKW"
      },
      "outputs": [],
      "source": [
        ""
      ]
    },
    {
      "cell_type": "markdown",
      "metadata": {
        "id": "f51FRv4Sh53i"
      },
      "source": [
        "# Análisis Hiperparámetros"
      ]
    },
    {
      "cell_type": "markdown",
      "metadata": {
        "id": "kOGkjTOViAQl"
      },
      "source": [
        "## Algoritmo de optimización"
      ]
    },
    {
      "cell_type": "markdown",
      "metadata": {
        "id": "Ov2i65KWiDH6"
      },
      "source": [
        "### ADAM"
      ]
    },
    {
      "cell_type": "code",
      "execution_count": null,
      "metadata": {
        "colab": {
          "background_save": true,
          "base_uri": "https://localhost:8080/"
        },
        "id": "rq1S03JUh8gT",
        "outputId": "765a02e4-61e1-4a65-c421-d42f4cddac14"
      },
      "outputs": [
        {
          "name": "stdout",
          "output_type": "stream",
          "text": [
            "Epoch 1/10\n",
            "1071/1071 [==============================] - 82s 72ms/step - loss: 0.0238 - mean_absolute_error: 0.1119\n",
            "Epoch 2/10\n",
            "1071/1071 [==============================] - 74s 69ms/step - loss: 0.0087 - mean_absolute_error: 0.0691\n",
            "Epoch 3/10\n",
            "1071/1071 [==============================] - 84s 78ms/step - loss: 0.0049 - mean_absolute_error: 0.0496\n",
            "Epoch 4/10\n",
            "1071/1071 [==============================] - 64s 60ms/step - loss: 0.0037 - mean_absolute_error: 0.0412\n",
            "Epoch 5/10\n",
            "1071/1071 [==============================] - 63s 59ms/step - loss: 0.0031 - mean_absolute_error: 0.0372\n",
            "Epoch 6/10\n",
            "1071/1071 [==============================] - 64s 59ms/step - loss: 0.0028 - mean_absolute_error: 0.0352\n",
            "Epoch 7/10\n",
            "1071/1071 [==============================] - 64s 59ms/step - loss: 0.0026 - mean_absolute_error: 0.0338\n",
            "Epoch 8/10\n",
            "1071/1071 [==============================] - 64s 60ms/step - loss: 0.0026 - mean_absolute_error: 0.0332\n",
            "Epoch 9/10\n",
            "1071/1071 [==============================] - 62s 58ms/step - loss: 0.0025 - mean_absolute_error: 0.0330\n",
            "Epoch 10/10\n",
            "1071/1071 [==============================] - 61s 57ms/step - loss: 0.0025 - mean_absolute_error: 0.0327\n"
          ]
        }
      ],
      "source": [
        "model_adam, history_adam= MODEL_LSTM(optimizador = 'adam', neuronas = 10, epocas = 10)\n",
        "model_adam.save('modelos/model_adam.h5')"
      ]
    },
    {
      "cell_type": "code",
      "execution_count": null,
      "metadata": {
        "id": "P3c-CFuciIsj",
        "colab": {
          "base_uri": "https://localhost:8080/"
        },
        "outputId": "5d1aab4a-c78f-4c0b-f949-4410ec01ff96"
      },
      "outputs": [
        {
          "output_type": "stream",
          "name": "stderr",
          "text": [
            "/usr/local/lib/python3.7/dist-packages/sklearn/base.py:451: UserWarning: X does not have valid feature names, but MinMaxScaler was fitted with feature names\n",
            "  \"X does not have valid feature names, but\"\n"
          ]
        }
      ],
      "source": [
        "model_adam = keras.models.load_model('modelos/model_adam.h5')\n",
        "prediccion_adam = predecirDataTest(model_adam)"
      ]
    },
    {
      "cell_type": "markdown",
      "metadata": {
        "id": "u51vllqLiO3h"
      },
      "source": [
        "### ADADELTA"
      ]
    },
    {
      "cell_type": "code",
      "execution_count": null,
      "metadata": {
        "id": "DC0KwNoEiMXK",
        "colab": {
          "base_uri": "https://localhost:8080/"
        },
        "outputId": "dd1f7272-6ed0-43c7-86dd-cd5152a8101f"
      },
      "outputs": [
        {
          "output_type": "stream",
          "name": "stdout",
          "text": [
            "Epoch 1/10\n",
            "1071/1071 [==============================] - 78s 64ms/step - loss: 0.4605 - mean_absolute_error: 0.6484\n",
            "Epoch 2/10\n",
            "1071/1071 [==============================] - 65s 61ms/step - loss: 0.4046 - mean_absolute_error: 0.6059\n",
            "Epoch 3/10\n",
            "1071/1071 [==============================] - 63s 59ms/step - loss: 0.3347 - mean_absolute_error: 0.5475\n",
            "Epoch 4/10\n",
            "1071/1071 [==============================] - 63s 58ms/step - loss: 0.2483 - mean_absolute_error: 0.4638\n",
            "Epoch 5/10\n",
            "1071/1071 [==============================] - 63s 59ms/step - loss: 0.1488 - mean_absolute_error: 0.3402\n",
            "Epoch 6/10\n",
            "1071/1071 [==============================] - 63s 59ms/step - loss: 0.0780 - mean_absolute_error: 0.2259\n",
            "Epoch 7/10\n",
            "1071/1071 [==============================] - 63s 59ms/step - loss: 0.0567 - mean_absolute_error: 0.1889\n",
            "Epoch 8/10\n",
            "1071/1071 [==============================] - 62s 58ms/step - loss: 0.0519 - mean_absolute_error: 0.1809\n",
            "Epoch 9/10\n",
            "1071/1071 [==============================] - 63s 58ms/step - loss: 0.0498 - mean_absolute_error: 0.1779\n",
            "Epoch 10/10\n",
            "1071/1071 [==============================] - 62s 58ms/step - loss: 0.0480 - mean_absolute_error: 0.1743\n"
          ]
        }
      ],
      "source": [
        "model_adadelta, history_adadelta = MODEL_LSTM(optimizador = 'adadelta', neuronas = 10, epocas = 10)\n",
        "model_adadelta.save('modelos/model_adadelta.h5')"
      ]
    },
    {
      "cell_type": "code",
      "execution_count": null,
      "metadata": {
        "id": "rdEkbcrziMah",
        "colab": {
          "base_uri": "https://localhost:8080/"
        },
        "outputId": "532f6435-a674-44f3-8128-f4f2a304c037"
      },
      "outputs": [
        {
          "output_type": "stream",
          "name": "stderr",
          "text": [
            "/usr/local/lib/python3.7/dist-packages/sklearn/base.py:451: UserWarning: X does not have valid feature names, but MinMaxScaler was fitted with feature names\n",
            "  \"X does not have valid feature names, but\"\n"
          ]
        }
      ],
      "source": [
        "model_adadelta = keras.models.load_model('modelos/model_adadelta.h5')\n",
        "prediccion_adadelta = predecirDataTest(model_adadelta)"
      ]
    },
    {
      "cell_type": "markdown",
      "metadata": {
        "id": "umU5B4QliRxc"
      },
      "source": [
        "### RMSPROP"
      ]
    },
    {
      "cell_type": "code",
      "execution_count": null,
      "metadata": {
        "id": "NL1JEtENiMd1",
        "colab": {
          "base_uri": "https://localhost:8080/"
        },
        "outputId": "148c593b-176b-4004-e61a-494d5e15e1ac"
      },
      "outputs": [
        {
          "output_type": "stream",
          "name": "stdout",
          "text": [
            "Epoch 1/10\n",
            "1071/1071 [==============================] - 68s 59ms/step - loss: 0.0152 - mean_absolute_error: 0.0856\n",
            "Epoch 2/10\n",
            "1071/1071 [==============================] - 64s 59ms/step - loss: 0.0039 - mean_absolute_error: 0.0432\n",
            "Epoch 3/10\n",
            "1071/1071 [==============================] - 63s 59ms/step - loss: 0.0029 - mean_absolute_error: 0.0360\n",
            "Epoch 4/10\n",
            "1071/1071 [==============================] - 63s 59ms/step - loss: 0.0027 - mean_absolute_error: 0.0344\n",
            "Epoch 5/10\n",
            "1071/1071 [==============================] - 64s 60ms/step - loss: 0.0026 - mean_absolute_error: 0.0336\n",
            "Epoch 6/10\n",
            "1071/1071 [==============================] - 64s 59ms/step - loss: 0.0026 - mean_absolute_error: 0.0334\n",
            "Epoch 7/10\n",
            "1071/1071 [==============================] - 64s 60ms/step - loss: 0.0025 - mean_absolute_error: 0.0329\n",
            "Epoch 8/10\n",
            "1071/1071 [==============================] - 63s 59ms/step - loss: 0.0025 - mean_absolute_error: 0.0329\n",
            "Epoch 9/10\n",
            "1071/1071 [==============================] - 64s 59ms/step - loss: 0.0025 - mean_absolute_error: 0.0326\n",
            "Epoch 10/10\n",
            "1071/1071 [==============================] - 64s 60ms/step - loss: 0.0025 - mean_absolute_error: 0.0325\n"
          ]
        }
      ],
      "source": [
        "model_rmsprop, history_rmsprop = MODEL_LSTM(optimizador = 'rmsprop', neuronas = 10, epocas = 10)\n",
        "model_rmsprop.save('modelos/model_rmsprop.h5')"
      ]
    },
    {
      "cell_type": "code",
      "execution_count": null,
      "metadata": {
        "id": "nWUcAc0qiMvw",
        "colab": {
          "base_uri": "https://localhost:8080/"
        },
        "outputId": "ad4c6d6b-1198-4a36-e1dc-c9679c44ce74"
      },
      "outputs": [
        {
          "output_type": "stream",
          "name": "stderr",
          "text": [
            "/usr/local/lib/python3.7/dist-packages/sklearn/base.py:451: UserWarning: X does not have valid feature names, but MinMaxScaler was fitted with feature names\n",
            "  \"X does not have valid feature names, but\"\n"
          ]
        }
      ],
      "source": [
        "model_rmsprop = keras.models.load_model('modelos/model_rmsprop.h5')\n",
        "prediccion_rmsprop = predecirDataTest(model_rmsprop)"
      ]
    },
    {
      "cell_type": "markdown",
      "metadata": {
        "id": "Hd3pgHdoi_zN"
      },
      "source": [
        "### Comparación de Optimizadores "
      ]
    },
    {
      "cell_type": "code",
      "execution_count": null,
      "metadata": {
        "id": "0oQkW_QziMzG",
        "colab": {
          "base_uri": "https://localhost:8080/",
          "height": 435
        },
        "outputId": "0e6e949c-ebb8-48d9-9686-b39f18401c42"
      },
      "outputs": [
        {
          "output_type": "display_data",
          "data": {
            "image/png": "[encoded data removed]",
            "text/plain": [
              "<Figure size 720x432 with 1 Axes>"
            ]
          },
          "metadata": {
            "needs_background": "light"
          }
        },
        {
          "output_type": "stream",
          "name": "stdout",
          "text": [
            "218\n"
          ]
        }
      ],
      "source": [
        "#Figura 5.42: Resultados variación algoritmo de entrenamiento de la red neuronal\n",
        "\n",
        "plt.figure(figsize=(10,6))\n",
        "\n",
        "limite = len(semana_estudio_test) -70\n",
        "plt.plot(semana_estudio_test.index[25:limite+25],\n",
        "         semana_estudio_test[:limite], \n",
        "         color='red', \n",
        "         label='Caudal real')\n",
        "plt.plot(semana_estudio_test.index[:limite],\n",
        "         prediccion_adam[:limite], \n",
        "         color='orange', \n",
        "         label='ADAM')\n",
        "plt.plot(semana_estudio_test.index[:limite],\n",
        "         prediccion_adadelta[:limite], \n",
        "         color='yellow', \n",
        "         label='ADADELTA')\n",
        "plt.plot(semana_estudio_test.index[:limite],\n",
        "         prediccion_rmsprop[:limite], \n",
        "         color='blue', \n",
        "         label='RMSPROP')\n",
        "\n",
        "plt.suptitle('PREDICCIÓN DEL CAUDAL',\n",
        "            fontsize = 18,\n",
        "            fontweight = 'bold',\n",
        "            fontfamily='serif')\n",
        "plt.legend()\n",
        "plt.show()\n",
        "print(limite)"
      ]
    },
    {
      "cell_type": "code",
      "source": [
        ""
      ],
      "metadata": {
        "id": "lxyS5SPbzmFK"
      },
      "execution_count": null,
      "outputs": []
    },
    {
      "cell_type": "markdown",
      "source": [
        "## Número de neuronas "
      ],
      "metadata": {
        "id": "3OyVII0738hR"
      }
    },
    {
      "cell_type": "markdown",
      "source": [
        "### 1 Neurona "
      ],
      "metadata": {
        "id": "5pth-MuB4ANz"
      }
    },
    {
      "cell_type": "code",
      "source": [
        "model_unaN, history_unaN = MODEL_LSTM(optimizador = 'rmsprop', neuronas = 1, epocas = 10)\n",
        "model_unaN.save('modelos/model_unaN.h5')"
      ],
      "metadata": {
        "colab": {
          "base_uri": "https://localhost:8080/"
        },
        "id": "CYUxYBKN3-oY",
        "outputId": "c7996a77-6d02-45ff-9f8f-e451a4e7d6ac"
      },
      "execution_count": null,
      "outputs": [
        {
          "output_type": "stream",
          "name": "stdout",
          "text": [
            "Epoch 1/10\n",
            "1071/1071 [==============================] - 78s 68ms/step - loss: 0.0591 - mean_absolute_error: 0.1647\n",
            "Epoch 2/10\n",
            "1071/1071 [==============================] - 73s 68ms/step - loss: 0.0126 - mean_absolute_error: 0.0764\n",
            "Epoch 3/10\n",
            "1071/1071 [==============================] - 65s 60ms/step - loss: 0.0118 - mean_absolute_error: 0.0724\n",
            "Epoch 4/10\n",
            "1071/1071 [==============================] - 59s 55ms/step - loss: 0.0116 - mean_absolute_error: 0.0712\n",
            "Epoch 5/10\n",
            "1071/1071 [==============================] - 54s 50ms/step - loss: 0.0113 - mean_absolute_error: 0.0701\n",
            "Epoch 6/10\n",
            "1071/1071 [==============================] - 52s 48ms/step - loss: 0.0114 - mean_absolute_error: 0.0703\n",
            "Epoch 7/10\n",
            "1071/1071 [==============================] - 53s 49ms/step - loss: 0.0116 - mean_absolute_error: 0.0703\n",
            "Epoch 8/10\n",
            "1071/1071 [==============================] - 52s 49ms/step - loss: 0.0114 - mean_absolute_error: 0.0702\n",
            "Epoch 9/10\n",
            "1071/1071 [==============================] - 57s 53ms/step - loss: 0.0114 - mean_absolute_error: 0.0697\n",
            "Epoch 10/10\n",
            "1071/1071 [==============================] - 52s 49ms/step - loss: 0.0113 - mean_absolute_error: 0.0694\n"
          ]
        }
      ]
    },
    {
      "cell_type": "code",
      "source": [
        "model_unaN = keras.models.load_model('modelos/model_unaN.h5')\n",
        "# model_unaN.summary()\n",
        "prediccion_unaN = predecirDataTest(model_unaN)"
      ],
      "metadata": {
        "colab": {
          "base_uri": "https://localhost:8080/"
        },
        "id": "v148ATUB4HL4",
        "outputId": "32dd0db0-c603-4297-e183-4f5e1ba273d7"
      },
      "execution_count": null,
      "outputs": [
        {
          "output_type": "stream",
          "name": "stderr",
          "text": [
            "/usr/local/lib/python3.7/dist-packages/sklearn/base.py:451: UserWarning: X does not have valid feature names, but MinMaxScaler was fitted with feature names\n",
            "  \"X does not have valid feature names, but\"\n"
          ]
        }
      ]
    },
    {
      "cell_type": "markdown",
      "source": [
        "### 3 Neuronas"
      ],
      "metadata": {
        "id": "rvM25w8K4OmW"
      }
    },
    {
      "cell_type": "code",
      "source": [
        "model_tresN, history_tresN = MODEL_LSTM(optimizador = 'rmsprop', neuronas = 3, epocas = 10)\n",
        "model_tresN.save('modelos/model_tresN.h5')"
      ],
      "metadata": {
        "colab": {
          "base_uri": "https://localhost:8080/"
        },
        "id": "dI0VkyEz4QMm",
        "outputId": "2d10fb8b-e6de-4a73-9b75-33a60c33ab0d"
      },
      "execution_count": null,
      "outputs": [
        {
          "output_type": "stream",
          "name": "stdout",
          "text": [
            "Epoch 1/10\n",
            "1071/1071 [==============================] - 72s 58ms/step - loss: 0.0473 - mean_absolute_error: 0.1373\n",
            "Epoch 2/10\n",
            "1071/1071 [==============================] - 62s 58ms/step - loss: 0.0066 - mean_absolute_error: 0.0567\n",
            "Epoch 3/10\n",
            "1071/1071 [==============================] - 60s 56ms/step - loss: 0.0057 - mean_absolute_error: 0.0522\n",
            "Epoch 4/10\n",
            "1071/1071 [==============================] - 60s 56ms/step - loss: 0.0055 - mean_absolute_error: 0.0510\n",
            "Epoch 5/10\n",
            "1071/1071 [==============================] - 60s 56ms/step - loss: 0.0054 - mean_absolute_error: 0.0502\n",
            "Epoch 6/10\n",
            "1071/1071 [==============================] - 59s 56ms/step - loss: 0.0052 - mean_absolute_error: 0.0498\n",
            "Epoch 7/10\n",
            "1071/1071 [==============================] - 60s 56ms/step - loss: 0.0052 - mean_absolute_error: 0.0497\n",
            "Epoch 8/10\n",
            "1071/1071 [==============================] - 59s 56ms/step - loss: 0.0051 - mean_absolute_error: 0.0491\n",
            "Epoch 9/10\n",
            "1071/1071 [==============================] - 60s 56ms/step - loss: 0.0051 - mean_absolute_error: 0.0489\n",
            "Epoch 10/10\n",
            "1071/1071 [==============================] - 60s 56ms/step - loss: 0.0050 - mean_absolute_error: 0.0486\n"
          ]
        }
      ]
    },
    {
      "cell_type": "code",
      "source": [
        "model_tresN = keras.models.load_model('modelos/model_tresN.h5')\n",
        "# model_tresN.summary()\n",
        "prediccion_tresN = predecirDataTest(model_tresN)"
      ],
      "metadata": {
        "colab": {
          "base_uri": "https://localhost:8080/"
        },
        "id": "8gfINKji4U2h",
        "outputId": "a8bb2b27-8ca3-4b77-f181-ed20c061744b"
      },
      "execution_count": null,
      "outputs": [
        {
          "output_type": "stream",
          "name": "stderr",
          "text": [
            "/usr/local/lib/python3.7/dist-packages/sklearn/base.py:451: UserWarning: X does not have valid feature names, but MinMaxScaler was fitted with feature names\n",
            "  \"X does not have valid feature names, but\"\n"
          ]
        }
      ]
    },
    {
      "cell_type": "markdown",
      "source": [
        "### 5 Neuronas"
      ],
      "metadata": {
        "id": "PeGYwB0H4Xks"
      }
    },
    {
      "cell_type": "code",
      "source": [
        "model_cincoN, history_cincoN = MODEL_LSTM(optimizador = 'rmsprop', neuronas = 5, epocas = 10)\n",
        "model_cincoN.save('modelos/model_cincoN.h5')"
      ],
      "metadata": {
        "colab": {
          "base_uri": "https://localhost:8080/"
        },
        "id": "YMUKKUq24ZtI",
        "outputId": "e62b818c-ea3a-4e13-ceec-4154af480661"
      },
      "execution_count": null,
      "outputs": [
        {
          "output_type": "stream",
          "name": "stdout",
          "text": [
            "Epoch 1/10\n",
            "1071/1071 [==============================] - 67s 58ms/step - loss: 0.0191 - mean_absolute_error: 0.0966\n",
            "Epoch 2/10\n",
            "1071/1071 [==============================] - 62s 58ms/step - loss: 0.0052 - mean_absolute_error: 0.0510\n",
            "Epoch 3/10\n",
            "1071/1071 [==============================] - 62s 57ms/step - loss: 0.0043 - mean_absolute_error: 0.0447\n",
            "Epoch 4/10\n",
            "1071/1071 [==============================] - 62s 58ms/step - loss: 0.0040 - mean_absolute_error: 0.0430\n",
            "Epoch 5/10\n",
            "1071/1071 [==============================] - 62s 58ms/step - loss: 0.0039 - mean_absolute_error: 0.0424\n",
            "Epoch 6/10\n",
            "1071/1071 [==============================] - 62s 58ms/step - loss: 0.0038 - mean_absolute_error: 0.0419\n",
            "Epoch 7/10\n",
            "1071/1071 [==============================] - 62s 58ms/step - loss: 0.0038 - mean_absolute_error: 0.0415\n",
            "Epoch 8/10\n",
            "1071/1071 [==============================] - 62s 58ms/step - loss: 0.0037 - mean_absolute_error: 0.0411\n",
            "Epoch 9/10\n",
            "1071/1071 [==============================] - 62s 58ms/step - loss: 0.0037 - mean_absolute_error: 0.0411\n",
            "Epoch 10/10\n",
            "1071/1071 [==============================] - 62s 58ms/step - loss: 0.0037 - mean_absolute_error: 0.0409\n"
          ]
        }
      ]
    },
    {
      "cell_type": "code",
      "source": [
        "model_cincoN = keras.models.load_model('modelos/model_cincoN.h5')\n",
        "# model_cincoN.summary()\n",
        "prediccion_cincoN = predecirDataTest(model_cincoN)"
      ],
      "metadata": {
        "colab": {
          "base_uri": "https://localhost:8080/"
        },
        "id": "tnVL-jxJ4h9Z",
        "outputId": "d87a58d5-ddbf-4ad4-c2bf-6b592031b4bf"
      },
      "execution_count": null,
      "outputs": [
        {
          "output_type": "stream",
          "name": "stderr",
          "text": [
            "/usr/local/lib/python3.7/dist-packages/sklearn/base.py:451: UserWarning: X does not have valid feature names, but MinMaxScaler was fitted with feature names\n",
            "  \"X does not have valid feature names, but\"\n"
          ]
        }
      ]
    },
    {
      "cell_type": "markdown",
      "source": [
        "### 10 Neuronas"
      ],
      "metadata": {
        "id": "CZDhGJOW4lj7"
      }
    },
    {
      "cell_type": "code",
      "source": [
        "model_diezN, history_diezN = MODEL_LSTM(optimizador = 'rmsprop', neuronas = 10, epocas = 10)\n",
        "model_diezN.save('modelos/model_diezN.h5')"
      ],
      "metadata": {
        "colab": {
          "base_uri": "https://localhost:8080/"
        },
        "id": "_gLC0AZV4m_X",
        "outputId": "6d5d065f-3c67-496e-e1d3-80b4e06b1f6d"
      },
      "execution_count": null,
      "outputs": [
        {
          "output_type": "stream",
          "name": "stdout",
          "text": [
            "Epoch 1/10\n",
            "1071/1071 [==============================] - 68s 60ms/step - loss: 0.0160 - mean_absolute_error: 0.0880\n",
            "Epoch 2/10\n",
            "1071/1071 [==============================] - 64s 60ms/step - loss: 0.0039 - mean_absolute_error: 0.0434\n",
            "Epoch 3/10\n",
            "1071/1071 [==============================] - 64s 60ms/step - loss: 0.0030 - mean_absolute_error: 0.0367\n",
            "Epoch 4/10\n",
            "1071/1071 [==============================] - 64s 59ms/step - loss: 0.0027 - mean_absolute_error: 0.0344\n",
            "Epoch 5/10\n",
            "1071/1071 [==============================] - 64s 59ms/step - loss: 0.0026 - mean_absolute_error: 0.0335\n",
            "Epoch 6/10\n",
            "1071/1071 [==============================] - 64s 60ms/step - loss: 0.0025 - mean_absolute_error: 0.0330\n",
            "Epoch 7/10\n",
            "1071/1071 [==============================] - 64s 60ms/step - loss: 0.0025 - mean_absolute_error: 0.0326\n",
            "Epoch 8/10\n",
            "1071/1071 [==============================] - 64s 60ms/step - loss: 0.0024 - mean_absolute_error: 0.0322\n",
            "Epoch 9/10\n",
            "1071/1071 [==============================] - 64s 60ms/step - loss: 0.0024 - mean_absolute_error: 0.0322\n",
            "Epoch 10/10\n",
            "1071/1071 [==============================] - 64s 60ms/step - loss: 0.0024 - mean_absolute_error: 0.0320\n"
          ]
        }
      ]
    },
    {
      "cell_type": "code",
      "source": [
        "model_diezN = keras.models.load_model('modelos/model_diezN.h5')\n",
        "# model_diezN.summary()\n",
        "prediccion_diezN = predecirDataTest(model_diezN)"
      ],
      "metadata": {
        "colab": {
          "base_uri": "https://localhost:8080/"
        },
        "id": "wylSljUw4qW9",
        "outputId": "1577d2fa-3fd8-4a2e-f54f-9af5f6e6fe53"
      },
      "execution_count": null,
      "outputs": [
        {
          "output_type": "stream",
          "name": "stderr",
          "text": [
            "/usr/local/lib/python3.7/dist-packages/sklearn/base.py:451: UserWarning: X does not have valid feature names, but MinMaxScaler was fitted with feature names\n",
            "  \"X does not have valid feature names, but\"\n"
          ]
        }
      ]
    },
    {
      "cell_type": "markdown",
      "source": [
        "### 15 Neuronas"
      ],
      "metadata": {
        "id": "0DOlP42n4t7b"
      }
    },
    {
      "cell_type": "code",
      "source": [
        "model_quinceN, history_quinceN = MODEL_LSTM(optimizador = 'rmsprop', neuronas = 15, epocas = 10)\n",
        "model_quinceN.save('modelos/model_quinceN.h5')"
      ],
      "metadata": {
        "colab": {
          "base_uri": "https://localhost:8080/"
        },
        "id": "V9JWtHdg4vMh",
        "outputId": "8aa09338-6c67-41f3-97b8-54442024f9e2"
      },
      "execution_count": null,
      "outputs": [
        {
          "output_type": "stream",
          "name": "stdout",
          "text": [
            "Epoch 1/10\n",
            "1071/1071 [==============================] - 71s 62ms/step - loss: 0.0126 - mean_absolute_error: 0.0812\n",
            "Epoch 2/10\n",
            "1071/1071 [==============================] - 67s 62ms/step - loss: 0.0040 - mean_absolute_error: 0.0448\n",
            "Epoch 3/10\n",
            "1071/1071 [==============================] - 67s 62ms/step - loss: 0.0026 - mean_absolute_error: 0.0343\n",
            "Epoch 4/10\n",
            "1071/1071 [==============================] - 66s 62ms/step - loss: 0.0023 - mean_absolute_error: 0.0318\n",
            "Epoch 5/10\n",
            "1071/1071 [==============================] - 66s 62ms/step - loss: 0.0022 - mean_absolute_error: 0.0309\n",
            "Epoch 6/10\n",
            "1071/1071 [==============================] - 69s 64ms/step - loss: 0.0022 - mean_absolute_error: 0.0303\n",
            "Epoch 7/10\n",
            "1071/1071 [==============================] - 67s 63ms/step - loss: 0.0022 - mean_absolute_error: 0.0300\n",
            "Epoch 8/10\n",
            "1071/1071 [==============================] - 67s 62ms/step - loss: 0.0021 - mean_absolute_error: 0.0297\n",
            "Epoch 9/10\n",
            "1071/1071 [==============================] - 67s 63ms/step - loss: 0.0021 - mean_absolute_error: 0.0294\n",
            "Epoch 10/10\n",
            "1071/1071 [==============================] - 67s 63ms/step - loss: 0.0021 - mean_absolute_error: 0.0292\n"
          ]
        }
      ]
    },
    {
      "cell_type": "code",
      "source": [
        "model_quinceN = keras.models.load_model('modelos/model_quinceN.h5')\n",
        "# model_quinceN.summary()\n",
        "prediccion_quinceN = predecirDataTest(model_quinceN)"
      ],
      "metadata": {
        "colab": {
          "base_uri": "https://localhost:8080/"
        },
        "id": "znL6HluB4zxm",
        "outputId": "d78db3cd-7b6d-4ce9-ce5f-1db3308195de"
      },
      "execution_count": null,
      "outputs": [
        {
          "output_type": "stream",
          "name": "stderr",
          "text": [
            "/usr/local/lib/python3.7/dist-packages/sklearn/base.py:451: UserWarning: X does not have valid feature names, but MinMaxScaler was fitted with feature names\n",
            "  \"X does not have valid feature names, but\"\n"
          ]
        }
      ]
    },
    {
      "cell_type": "markdown",
      "source": [
        "### Gráfica Comparación Neuronas "
      ],
      "metadata": {
        "id": "Ut-8uulv45vz"
      }
    },
    {
      "cell_type": "code",
      "source": [
        "# Figura 5.43: Resultados variación número de neuronas\n",
        "\n",
        "plt.figure(figsize=(10,6))\n",
        "\n",
        "plt.plot(semana_estudio_test.index[25:limite+25],\n",
        "         semana_estudio_test[:limite], \n",
        "         color='red', \n",
        "         label='Caudal real')\n",
        "plt.plot(semana_estudio_test.index[:limite],\n",
        "         prediccion_unaN[:limite], \n",
        "         color='orange', \n",
        "         label='1 Neurona')\n",
        "plt.plot(semana_estudio_test.index[:limite],\n",
        "         prediccion_tresN[:limite], \n",
        "         color='yellow', \n",
        "         label='3 Neuronas')\n",
        "plt.plot(semana_estudio_test.index[:limite],\n",
        "         prediccion_cincoN[:limite], \n",
        "         color='gray', \n",
        "         label='5 Neuronas')\n",
        "plt.plot(semana_estudio_test.index[:limite],\n",
        "         prediccion_diezN[:limite], \n",
        "         color='purple', \n",
        "         label='10 Neuronas')\n",
        "plt.plot(semana_estudio_test.index[:limite],\n",
        "         prediccion_quinceN[:limite], \n",
        "         color='blue', \n",
        "         label='15 Neuronas')\n",
        "\n",
        "plt.suptitle('PREDICCIÓN DEL CAUDAL',\n",
        "            fontsize = 18,\n",
        "            fontweight = 'bold',\n",
        "            fontfamily='serif')\n",
        "plt.legend()\n",
        "plt.show()"
      ],
      "metadata": {
        "colab": {
          "base_uri": "https://localhost:8080/",
          "height": 417
        },
        "id": "oO64NvdP483J",
        "outputId": "44aa39f6-5a15-4306-b18e-57f24c5692a0"
      },
      "execution_count": null,
      "outputs": [
        {
          "output_type": "display_data",
          "data": {
            "image/png": "[encoded data removed]",
            "text/plain": [
              "<Figure size 720x432 with 1 Axes>"
            ]
          },
          "metadata": {
            "needs_background": "light"
          }
        }
      ]
    },
    {
      "cell_type": "markdown",
      "source": [
        "## Análisis de épocas "
      ],
      "metadata": {
        "id": "x7jKqmGdqofh"
      }
    },
    {
      "cell_type": "markdown",
      "source": [
        "### 3 épocas "
      ],
      "metadata": {
        "id": "pRXnZ-dYquaN"
      }
    },
    {
      "cell_type": "code",
      "source": [
        "model_tresE, history_quinceN = MODEL_LSTM(optimizador = 'rmsprop', neuronas = 15, epocas = 3)\n",
        "model_tresE.save('modelos/model_tresE.h5')"
      ],
      "metadata": {
        "colab": {
          "base_uri": "https://localhost:8080/"
        },
        "id": "AOTJ3fazrQJU",
        "outputId": "5691e248-40c7-4da8-bc6b-f296bcf57603"
      },
      "execution_count": 17,
      "outputs": [
        {
          "output_type": "stream",
          "name": "stdout",
          "text": [
            "Epoch 1/3\n",
            "1071/1071 [==============================] - 81s 71ms/step - loss: 0.0117 - mean_absolute_error: 0.0784\n",
            "Epoch 2/3\n",
            "1071/1071 [==============================] - 66s 61ms/step - loss: 0.0038 - mean_absolute_error: 0.0430\n",
            "Epoch 3/3\n",
            "1071/1071 [==============================] - 64s 60ms/step - loss: 0.0026 - mean_absolute_error: 0.0337\n"
          ]
        }
      ]
    },
    {
      "cell_type": "code",
      "source": [
        "model_tresE = keras.models.load_model('modelos/model_tresE.h5')\n",
        "prediccion_tresE = predecirDataTest(model_tresE)"
      ],
      "metadata": {
        "colab": {
          "base_uri": "https://localhost:8080/"
        },
        "id": "RDt1k77QrRVy",
        "outputId": "0bbed545-8344-4749-cf6a-00a9e984e466"
      },
      "execution_count": 18,
      "outputs": [
        {
          "output_type": "stream",
          "name": "stderr",
          "text": [
            "/usr/local/lib/python3.7/dist-packages/sklearn/base.py:451: UserWarning: X does not have valid feature names, but MinMaxScaler was fitted with feature names\n",
            "  \"X does not have valid feature names, but\"\n"
          ]
        }
      ]
    },
    {
      "cell_type": "markdown",
      "source": [
        "### 5 épocas "
      ],
      "metadata": {
        "id": "MLsT9mvurR4O"
      }
    },
    {
      "cell_type": "code",
      "source": [
        "model_cincoE, history_quinceN = MODEL_LSTM(optimizador = 'rmsprop', neuronas = 15, epocas = 5)\n",
        "model_cincoE.save('modelos/model_cincoE.h5')"
      ],
      "metadata": {
        "colab": {
          "base_uri": "https://localhost:8080/"
        },
        "id": "ckmqY9u-rTMk",
        "outputId": "15222568-ae51-4e96-f82c-c9bb3ce36498"
      },
      "execution_count": 19,
      "outputs": [
        {
          "output_type": "stream",
          "name": "stdout",
          "text": [
            "Epoch 1/5\n",
            "1071/1071 [==============================] - 70s 62ms/step - loss: 0.0127 - mean_absolute_error: 0.0816\n",
            "Epoch 2/5\n",
            "1071/1071 [==============================] - 83s 78ms/step - loss: 0.0039 - mean_absolute_error: 0.0436\n",
            "Epoch 3/5\n",
            "1071/1071 [==============================] - 70s 65ms/step - loss: 0.0025 - mean_absolute_error: 0.0330\n",
            "Epoch 4/5\n",
            "1071/1071 [==============================] - 79s 74ms/step - loss: 0.0022 - mean_absolute_error: 0.0306\n",
            "Epoch 5/5\n",
            "1071/1071 [==============================] - 68s 64ms/step - loss: 0.0022 - mean_absolute_error: 0.0298\n"
          ]
        }
      ]
    },
    {
      "cell_type": "code",
      "source": [
        "model_cincoE = keras.models.load_model('modelos/model_cincoE.h5')\n",
        "prediccion_cincoE = predecirDataTest(model_cincoE)"
      ],
      "metadata": {
        "colab": {
          "base_uri": "https://localhost:8080/"
        },
        "id": "JlL_3MdLrUBi",
        "outputId": "6fb16fcd-dc57-4f90-8d16-f297ecdcfb51"
      },
      "execution_count": 20,
      "outputs": [
        {
          "output_type": "stream",
          "name": "stderr",
          "text": [
            "/usr/local/lib/python3.7/dist-packages/sklearn/base.py:451: UserWarning: X does not have valid feature names, but MinMaxScaler was fitted with feature names\n",
            "  \"X does not have valid feature names, but\"\n"
          ]
        }
      ]
    },
    {
      "cell_type": "markdown",
      "source": [
        "### 10 épocas "
      ],
      "metadata": {
        "id": "zJ-SA66MrUbn"
      }
    },
    {
      "cell_type": "code",
      "source": [
        "model_diezE, history_diezN = MODEL_LSTM(optimizador = 'rmsprop', neuronas = 15, epocas = 10)\n",
        "model_diezE.save('modelos/model_diezE.h5')"
      ],
      "metadata": {
        "colab": {
          "base_uri": "https://localhost:8080/"
        },
        "id": "fyoWzCRYrWh0",
        "outputId": "3aad0c15-7ae2-482e-df17-5be1d017f239"
      },
      "execution_count": 21,
      "outputs": [
        {
          "output_type": "stream",
          "name": "stdout",
          "text": [
            "Epoch 1/10\n",
            "1071/1071 [==============================] - 74s 65ms/step - loss: 0.0140 - mean_absolute_error: 0.0838\n",
            "Epoch 2/10\n",
            "1071/1071 [==============================] - 69s 65ms/step - loss: 0.0040 - mean_absolute_error: 0.0442\n",
            "Epoch 3/10\n",
            "1071/1071 [==============================] - 67s 62ms/step - loss: 0.0025 - mean_absolute_error: 0.0334\n",
            "Epoch 4/10\n",
            "1071/1071 [==============================] - 67s 63ms/step - loss: 0.0022 - mean_absolute_error: 0.0308\n",
            "Epoch 5/10\n",
            "1071/1071 [==============================] - 67s 63ms/step - loss: 0.0022 - mean_absolute_error: 0.0300\n",
            "Epoch 6/10\n",
            "1071/1071 [==============================] - 67s 62ms/step - loss: 0.0021 - mean_absolute_error: 0.0295\n",
            "Epoch 7/10\n",
            "1071/1071 [==============================] - 67s 63ms/step - loss: 0.0021 - mean_absolute_error: 0.0293\n",
            "Epoch 8/10\n",
            "1071/1071 [==============================] - 68s 63ms/step - loss: 0.0021 - mean_absolute_error: 0.0293\n",
            "Epoch 9/10\n",
            "1071/1071 [==============================] - 69s 65ms/step - loss: 0.0021 - mean_absolute_error: 0.0288\n",
            "Epoch 10/10\n",
            "1071/1071 [==============================] - 67s 63ms/step - loss: 0.0020 - mean_absolute_error: 0.0286\n"
          ]
        }
      ]
    },
    {
      "cell_type": "code",
      "source": [
        "model_diezE = keras.models.load_model('modelos/model_diezE.h5')\n",
        "prediccion_diezE = predecirDataTest(model_diezE)"
      ],
      "metadata": {
        "colab": {
          "base_uri": "https://localhost:8080/"
        },
        "id": "5ChDJ6QJrXNe",
        "outputId": "ef6d51c3-5fa3-4d3d-8758-f9f844c9f1b3"
      },
      "execution_count": 22,
      "outputs": [
        {
          "output_type": "stream",
          "name": "stderr",
          "text": [
            "/usr/local/lib/python3.7/dist-packages/sklearn/base.py:451: UserWarning: X does not have valid feature names, but MinMaxScaler was fitted with feature names\n",
            "  \"X does not have valid feature names, but\"\n"
          ]
        }
      ]
    },
    {
      "cell_type": "markdown",
      "source": [
        "### 15 épocas "
      ],
      "metadata": {
        "id": "XtlhmUX8rY4N"
      }
    },
    {
      "cell_type": "code",
      "source": [
        "model_quinceE, history_quinceN = MODEL_LSTM(optimizador = 'rmsprop', neuronas = 15, epocas = 15)\n",
        "model_quinceE.save('modelos/model_quinceE.h5')"
      ],
      "metadata": {
        "colab": {
          "base_uri": "https://localhost:8080/"
        },
        "id": "1k4QVw3EraNf",
        "outputId": "e9c53abd-41e7-46ba-f8a5-7037fa325f2a"
      },
      "execution_count": 23,
      "outputs": [
        {
          "output_type": "stream",
          "name": "stdout",
          "text": [
            "Epoch 1/15\n",
            "1071/1071 [==============================] - 71s 63ms/step - loss: 0.0160 - mean_absolute_error: 0.0854\n",
            "Epoch 2/15\n",
            "1071/1071 [==============================] - 71s 66ms/step - loss: 0.0038 - mean_absolute_error: 0.0432\n",
            "Epoch 3/15\n",
            "1071/1071 [==============================] - 77s 72ms/step - loss: 0.0026 - mean_absolute_error: 0.0337\n",
            "Epoch 4/15\n",
            "1071/1071 [==============================] - 74s 69ms/step - loss: 0.0023 - mean_absolute_error: 0.0310\n",
            "Epoch 5/15\n",
            "1071/1071 [==============================] - 70s 66ms/step - loss: 0.0022 - mean_absolute_error: 0.0303\n",
            "Epoch 6/15\n",
            "1071/1071 [==============================] - 72s 67ms/step - loss: 0.0022 - mean_absolute_error: 0.0297\n",
            "Epoch 7/15\n",
            "1071/1071 [==============================] - 69s 65ms/step - loss: 0.0021 - mean_absolute_error: 0.0293\n",
            "Epoch 8/15\n",
            "1071/1071 [==============================] - 69s 65ms/step - loss: 0.0021 - mean_absolute_error: 0.0291\n",
            "Epoch 9/15\n",
            "1071/1071 [==============================] - 67s 62ms/step - loss: 0.0021 - mean_absolute_error: 0.0289\n",
            "Epoch 10/15\n",
            "1071/1071 [==============================] - 67s 62ms/step - loss: 0.0021 - mean_absolute_error: 0.0288\n",
            "Epoch 11/15\n",
            "1071/1071 [==============================] - 67s 63ms/step - loss: 0.0020 - mean_absolute_error: 0.0284\n",
            "Epoch 12/15\n",
            "1071/1071 [==============================] - 67s 62ms/step - loss: 0.0020 - mean_absolute_error: 0.0284\n",
            "Epoch 13/15\n",
            "1071/1071 [==============================] - 66s 62ms/step - loss: 0.0020 - mean_absolute_error: 0.0281\n",
            "Epoch 14/15\n",
            "1071/1071 [==============================] - 66s 62ms/step - loss: 0.0020 - mean_absolute_error: 0.0280\n",
            "Epoch 15/15\n",
            "1071/1071 [==============================] - 67s 62ms/step - loss: 0.0020 - mean_absolute_error: 0.0281\n"
          ]
        }
      ]
    },
    {
      "cell_type": "code",
      "source": [
        "model_quinceE = keras.models.load_model('modelos/model_quinceE.h5')\n",
        "prediccion_quinceE = predecirDataTest(model_quinceE)"
      ],
      "metadata": {
        "colab": {
          "base_uri": "https://localhost:8080/"
        },
        "id": "KUbFhNaNra1r",
        "outputId": "7040f60f-af7e-4398-93a5-b01041912106"
      },
      "execution_count": 24,
      "outputs": [
        {
          "output_type": "stream",
          "name": "stderr",
          "text": [
            "/usr/local/lib/python3.7/dist-packages/sklearn/base.py:451: UserWarning: X does not have valid feature names, but MinMaxScaler was fitted with feature names\n",
            "  \"X does not have valid feature names, but\"\n"
          ]
        }
      ]
    },
    {
      "cell_type": "markdown",
      "source": [
        "### Gráfica comparativa "
      ],
      "metadata": {
        "id": "uBIxzGGivYED"
      }
    },
    {
      "cell_type": "code",
      "source": [
        "#Figura 5.44: Resultados variación número de epocas\n",
        "\n",
        "plt.figure(figsize=(10,6))\n",
        "\n",
        "limite = len(semana_estudio_test)-70\n",
        "\n",
        "plt.plot(semana_estudio_test.index[25:limite+25],\n",
        "         semana_estudio_test[:limite], \n",
        "         color='red', \n",
        "         label='Caudal real')\n",
        "plt.plot(semana_estudio_test.index[:limite],\n",
        "         prediccion_tresE[:limite], \n",
        "         color='orange', \n",
        "         label='3 Épocas')\n",
        "plt.plot(semana_estudio_test.index[:limite],\n",
        "         prediccion_cincoE[:limite], \n",
        "         color='yellow', \n",
        "         label='5 Épocas')\n",
        "plt.plot(semana_estudio_test.index[:limite],\n",
        "         prediccion_diezE[:limite], \n",
        "         color='gray', \n",
        "         label='10 Épocas')\n",
        "plt.plot(semana_estudio_test.index[:limite],\n",
        "         prediccion_quinceE[:limite], \n",
        "         color='purple', \n",
        "         label='15 Épocas')\n",
        "\n",
        "\n",
        "plt.suptitle('PREDICCIÓN DEL CAUDAL',\n",
        "            fontsize = 18,\n",
        "            fontweight = 'bold',\n",
        "            fontfamily='serif')\n",
        "plt.legend()\n",
        "plt.show()"
      ],
      "metadata": {
        "colab": {
          "base_uri": "https://localhost:8080/",
          "height": 417
        },
        "id": "pdyYLRblvXdS",
        "outputId": "3b53a3bf-8de2-4b7d-89a3-2d13711d763d"
      },
      "execution_count": 51,
      "outputs": [
        {
          "output_type": "display_data",
          "data": {
            "image/png": "[encoded data removed]",
            "text/plain": [
              "<Figure size 720x432 with 1 Axes>"
            ]
          },
          "metadata": {
            "needs_background": "light"
          }
        }
      ]
    },
    {
      "cell_type": "code",
      "source": [
        ""
      ],
      "metadata": {
        "id": "9hf3V8I499Eo"
      },
      "execution_count": null,
      "outputs": []
    }
  ],
  "metadata": {
    "colab": {
      "name": "NN_ModelsCaudal.ipynb",
      "provenance": []
    },
    "kernelspec": {
      "display_name": "Python 3",
      "name": "python3"
    },
    "language_info": {
      "name": "python"
    }
  },
  "nbformat": 4,
  "nbformat_minor": 0
}