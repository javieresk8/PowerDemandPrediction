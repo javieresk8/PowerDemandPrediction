{
 "cells": [
  {
   "cell_type": "code",
   "execution_count": 2,
   "id": "753f1056",
   "metadata": {},
   "outputs": [
    {
     "name": "stderr",
     "output_type": "stream",
     "text": [
      "Using TensorFlow backend.\n"
     ]
    }
   ],
   "source": [
    "import numpy as np \n",
    "import pandas as pd \n",
    "import matplotlib.pyplot as plt\n",
    "from sklearn.preprocessing import LabelEncoder\n",
    "from sklearn.model_selection import train_test_split\n",
    "import keras\n",
    "from keras.models import Sequential\n",
    "from keras.layers import Dense, Activation, Dropout\n",
    "from keras.optimizers import SGD"
   ]
  },
  {
   "cell_type": "code",
   "execution_count": 84,
   "id": "5baf2bc5",
   "metadata": {
    "scrolled": true
   },
   "outputs": [
    {
     "data": {
      "text/html": [
       "<div>\n",
       "<style scoped>\n",
       "    .dataframe tbody tr th:only-of-type {\n",
       "        vertical-align: middle;\n",
       "    }\n",
       "\n",
       "    .dataframe tbody tr th {\n",
       "        vertical-align: top;\n",
       "    }\n",
       "\n",
       "    .dataframe thead th {\n",
       "        text-align: right;\n",
       "    }\n",
       "</style>\n",
       "<table border=\"1\" class=\"dataframe\">\n",
       "  <thead>\n",
       "    <tr style=\"text-align: right;\">\n",
       "      <th></th>\n",
       "      <th>AÑO</th>\n",
       "      <th>MES</th>\n",
       "      <th>DIA</th>\n",
       "      <th>FECHA</th>\n",
       "      <th>HORA</th>\n",
       "      <th>KW-H</th>\n",
       "    </tr>\n",
       "  </thead>\n",
       "  <tbody>\n",
       "    <tr>\n",
       "      <th>0</th>\n",
       "      <td>2015</td>\n",
       "      <td>1</td>\n",
       "      <td>jueves</td>\n",
       "      <td>1</td>\n",
       "      <td>0</td>\n",
       "      <td>3200</td>\n",
       "    </tr>\n",
       "    <tr>\n",
       "      <th>1</th>\n",
       "      <td>2015</td>\n",
       "      <td>1</td>\n",
       "      <td>jueves</td>\n",
       "      <td>1</td>\n",
       "      <td>1</td>\n",
       "      <td>3200</td>\n",
       "    </tr>\n",
       "    <tr>\n",
       "      <th>2</th>\n",
       "      <td>2015</td>\n",
       "      <td>1</td>\n",
       "      <td>jueves</td>\n",
       "      <td>1</td>\n",
       "      <td>2</td>\n",
       "      <td>2400</td>\n",
       "    </tr>\n",
       "    <tr>\n",
       "      <th>3</th>\n",
       "      <td>2015</td>\n",
       "      <td>1</td>\n",
       "      <td>jueves</td>\n",
       "      <td>1</td>\n",
       "      <td>3</td>\n",
       "      <td>2400</td>\n",
       "    </tr>\n",
       "    <tr>\n",
       "      <th>4</th>\n",
       "      <td>2015</td>\n",
       "      <td>1</td>\n",
       "      <td>jueves</td>\n",
       "      <td>1</td>\n",
       "      <td>4</td>\n",
       "      <td>2400</td>\n",
       "    </tr>\n",
       "    <tr>\n",
       "      <th>...</th>\n",
       "      <td>...</td>\n",
       "      <td>...</td>\n",
       "      <td>...</td>\n",
       "      <td>...</td>\n",
       "      <td>...</td>\n",
       "      <td>...</td>\n",
       "    </tr>\n",
       "    <tr>\n",
       "      <th>43819</th>\n",
       "      <td>2019</td>\n",
       "      <td>12</td>\n",
       "      <td>martes</td>\n",
       "      <td>31</td>\n",
       "      <td>19</td>\n",
       "      <td>3400</td>\n",
       "    </tr>\n",
       "    <tr>\n",
       "      <th>43820</th>\n",
       "      <td>2019</td>\n",
       "      <td>12</td>\n",
       "      <td>martes</td>\n",
       "      <td>31</td>\n",
       "      <td>20</td>\n",
       "      <td>3600</td>\n",
       "    </tr>\n",
       "    <tr>\n",
       "      <th>43821</th>\n",
       "      <td>2019</td>\n",
       "      <td>12</td>\n",
       "      <td>martes</td>\n",
       "      <td>31</td>\n",
       "      <td>21</td>\n",
       "      <td>3800</td>\n",
       "    </tr>\n",
       "    <tr>\n",
       "      <th>43822</th>\n",
       "      <td>2019</td>\n",
       "      <td>12</td>\n",
       "      <td>martes</td>\n",
       "      <td>31</td>\n",
       "      <td>22</td>\n",
       "      <td>4000</td>\n",
       "    </tr>\n",
       "    <tr>\n",
       "      <th>43823</th>\n",
       "      <td>2019</td>\n",
       "      <td>12</td>\n",
       "      <td>martes</td>\n",
       "      <td>31</td>\n",
       "      <td>23</td>\n",
       "      <td>4000</td>\n",
       "    </tr>\n",
       "  </tbody>\n",
       "</table>\n",
       "<p>43824 rows × 6 columns</p>\n",
       "</div>"
      ],
      "text/plain": [
       "        AÑO  MES     DIA  FECHA  HORA  KW-H\n",
       "0      2015    1  jueves      1     0  3200\n",
       "1      2015    1  jueves      1     1  3200\n",
       "2      2015    1  jueves      1     2  2400\n",
       "3      2015    1  jueves      1     3  2400\n",
       "4      2015    1  jueves      1     4  2400\n",
       "...     ...  ...     ...    ...   ...   ...\n",
       "43819  2019   12  martes     31    19  3400\n",
       "43820  2019   12  martes     31    20  3600\n",
       "43821  2019   12  martes     31    21  3800\n",
       "43822  2019   12  martes     31    22  4000\n",
       "43823  2019   12  martes     31    23  4000\n",
       "\n",
       "[43824 rows x 6 columns]"
      ]
     },
     "execution_count": 84,
     "metadata": {},
     "output_type": "execute_result"
    }
   ],
   "source": [
    "#Lectura de datos \n",
    "data = pd.read_csv('DEPURACION_FINAL.csv', sep=',')\n",
    "data"
   ]
  },
  {
   "cell_type": "code",
   "execution_count": 85,
   "id": "e8d7d82c",
   "metadata": {},
   "outputs": [
    {
     "data": {
      "text/plain": [
       "AÑO      0\n",
       "MES      0\n",
       "DIA      0\n",
       "FECHA    0\n",
       "HORA     0\n",
       "KW-H     0\n",
       "dtype: int64"
      ]
     },
     "execution_count": 85,
     "metadata": {},
     "output_type": "execute_result"
    }
   ],
   "source": [
    "#Verificacion de nans \n",
    "data.isnull().values.any()\n",
    "data.isnull().sum().sum()\n",
    "\n",
    "data.isnull().sum()"
   ]
  },
  {
   "cell_type": "code",
   "execution_count": 86,
   "id": "f2d0cb09",
   "metadata": {
    "scrolled": true
   },
   "outputs": [],
   "source": [
    "#Variable categrica DIA a numérica\n",
    "#TODO Borrar al final de cuentas no se usa este dato \n",
    "data['DIA'] = data['DIA'].map({'lunes': 1 ,\n",
    "                                           'martes': 2,\n",
    "                                           'miercoles': 3,\n",
    "                                           'miércoles': 3,\n",
    "                                           'jueves': 4 , \n",
    "                                           'viernes': 5, \n",
    "                                           'sábado': 6,\n",
    "                                           'sabado': 6,  #inconsistencia en la data por las tildes\n",
    "                                           'domingo': 7})\n",
    "\n",
    "\n"
   ]
  },
  {
   "cell_type": "code",
   "execution_count": 138,
   "id": "20cbf7c4",
   "metadata": {
    "scrolled": true
   },
   "outputs": [],
   "source": [
    "data.tail(50)\n",
    "# data.to_csv('data_total.csv')\n"
   ]
  },
  {
   "cell_type": "code",
   "execution_count": 88,
   "id": "7aef149d",
   "metadata": {
    "scrolled": true
   },
   "outputs": [
    {
     "data": {
      "text/html": [
       "<div>\n",
       "<style scoped>\n",
       "    .dataframe tbody tr th:only-of-type {\n",
       "        vertical-align: middle;\n",
       "    }\n",
       "\n",
       "    .dataframe tbody tr th {\n",
       "        vertical-align: top;\n",
       "    }\n",
       "\n",
       "    .dataframe thead th {\n",
       "        text-align: right;\n",
       "    }\n",
       "</style>\n",
       "<table border=\"1\" class=\"dataframe\">\n",
       "  <thead>\n",
       "    <tr style=\"text-align: right;\">\n",
       "      <th></th>\n",
       "      <th>FECHA</th>\n",
       "      <th>KW-H</th>\n",
       "    </tr>\n",
       "  </thead>\n",
       "  <tbody>\n",
       "    <tr>\n",
       "      <th>0</th>\n",
       "      <td>2015-01-01 00:00:00</td>\n",
       "      <td>3200</td>\n",
       "    </tr>\n",
       "    <tr>\n",
       "      <th>1</th>\n",
       "      <td>2015-01-01 01:00:00</td>\n",
       "      <td>3200</td>\n",
       "    </tr>\n",
       "    <tr>\n",
       "      <th>2</th>\n",
       "      <td>2015-01-01 02:00:00</td>\n",
       "      <td>2400</td>\n",
       "    </tr>\n",
       "    <tr>\n",
       "      <th>3</th>\n",
       "      <td>2015-01-01 03:00:00</td>\n",
       "      <td>2400</td>\n",
       "    </tr>\n",
       "    <tr>\n",
       "      <th>4</th>\n",
       "      <td>2015-01-01 04:00:00</td>\n",
       "      <td>2400</td>\n",
       "    </tr>\n",
       "    <tr>\n",
       "      <th>...</th>\n",
       "      <td>...</td>\n",
       "      <td>...</td>\n",
       "    </tr>\n",
       "    <tr>\n",
       "      <th>43819</th>\n",
       "      <td>2019-12-31 19:00:00</td>\n",
       "      <td>3400</td>\n",
       "    </tr>\n",
       "    <tr>\n",
       "      <th>43820</th>\n",
       "      <td>2019-12-31 20:00:00</td>\n",
       "      <td>3600</td>\n",
       "    </tr>\n",
       "    <tr>\n",
       "      <th>43821</th>\n",
       "      <td>2019-12-31 21:00:00</td>\n",
       "      <td>3800</td>\n",
       "    </tr>\n",
       "    <tr>\n",
       "      <th>43822</th>\n",
       "      <td>2019-12-31 22:00:00</td>\n",
       "      <td>4000</td>\n",
       "    </tr>\n",
       "    <tr>\n",
       "      <th>43823</th>\n",
       "      <td>2019-12-31 23:00:00</td>\n",
       "      <td>4000</td>\n",
       "    </tr>\n",
       "  </tbody>\n",
       "</table>\n",
       "<p>43824 rows × 2 columns</p>\n",
       "</div>"
      ],
      "text/plain": [
       "                    FECHA  KW-H\n",
       "0     2015-01-01 00:00:00  3200\n",
       "1     2015-01-01 01:00:00  3200\n",
       "2     2015-01-01 02:00:00  2400\n",
       "3     2015-01-01 03:00:00  2400\n",
       "4     2015-01-01 04:00:00  2400\n",
       "...                   ...   ...\n",
       "43819 2019-12-31 19:00:00  3400\n",
       "43820 2019-12-31 20:00:00  3600\n",
       "43821 2019-12-31 21:00:00  3800\n",
       "43822 2019-12-31 22:00:00  4000\n",
       "43823 2019-12-31 23:00:00  4000\n",
       "\n",
       "[43824 rows x 2 columns]"
      ]
     },
     "execution_count": 88,
     "metadata": {},
     "output_type": "execute_result"
    }
   ],
   "source": [
    "#Llevamos la hora y la fecha para los indices porque lo que nos interesa es KW-H\n",
    "from datetime import datetime \n",
    "data_final = pd.DataFrame()\n",
    "fechas_dt = []\n",
    "kwh_dt = []\n",
    "for registro in data.values:\n",
    "    fecha = \"{}-{}-{} {}\".format(registro[0], registro[1], registro[3], registro[4])\n",
    "    fecha_dt = datetime.strptime(fecha, '%Y-%m-%d %H')\n",
    "    fechas_dt.append(fecha_dt)\n",
    "    kwh_dt.append(registro[5])\n",
    "#Creamos un nuevo dataframe con el formato de fecha correcto y el valor de KW-H\n",
    "data_final['FECHA'] = fechas_dt\n",
    "data_final['KW-H'] = kwh_dt\n",
    "data_final"
   ]
  },
  {
   "cell_type": "code",
   "execution_count": 139,
   "id": "7207d79c",
   "metadata": {},
   "outputs": [],
   "source": [
    "data_final.to_csv('data_total_dattime.csv')"
   ]
  },
  {
   "cell_type": "code",
   "execution_count": 89,
   "id": "3d8715ac",
   "metadata": {},
   "outputs": [
    {
     "data": {
      "text/html": [
       "<div>\n",
       "<style scoped>\n",
       "    .dataframe tbody tr th:only-of-type {\n",
       "        vertical-align: middle;\n",
       "    }\n",
       "\n",
       "    .dataframe tbody tr th {\n",
       "        vertical-align: top;\n",
       "    }\n",
       "\n",
       "    .dataframe thead th {\n",
       "        text-align: right;\n",
       "    }\n",
       "</style>\n",
       "<table border=\"1\" class=\"dataframe\">\n",
       "  <thead>\n",
       "    <tr style=\"text-align: right;\">\n",
       "      <th></th>\n",
       "      <th>KW-H</th>\n",
       "    </tr>\n",
       "    <tr>\n",
       "      <th>FECHA</th>\n",
       "      <th></th>\n",
       "    </tr>\n",
       "  </thead>\n",
       "  <tbody>\n",
       "    <tr>\n",
       "      <th>2015-01-01 00:00:00</th>\n",
       "      <td>3200</td>\n",
       "    </tr>\n",
       "    <tr>\n",
       "      <th>2015-01-01 01:00:00</th>\n",
       "      <td>3200</td>\n",
       "    </tr>\n",
       "    <tr>\n",
       "      <th>2015-01-01 02:00:00</th>\n",
       "      <td>2400</td>\n",
       "    </tr>\n",
       "    <tr>\n",
       "      <th>2015-01-01 03:00:00</th>\n",
       "      <td>2400</td>\n",
       "    </tr>\n",
       "    <tr>\n",
       "      <th>2015-01-01 04:00:00</th>\n",
       "      <td>2400</td>\n",
       "    </tr>\n",
       "    <tr>\n",
       "      <th>...</th>\n",
       "      <td>...</td>\n",
       "    </tr>\n",
       "    <tr>\n",
       "      <th>2019-12-31 19:00:00</th>\n",
       "      <td>3400</td>\n",
       "    </tr>\n",
       "    <tr>\n",
       "      <th>2019-12-31 20:00:00</th>\n",
       "      <td>3600</td>\n",
       "    </tr>\n",
       "    <tr>\n",
       "      <th>2019-12-31 21:00:00</th>\n",
       "      <td>3800</td>\n",
       "    </tr>\n",
       "    <tr>\n",
       "      <th>2019-12-31 22:00:00</th>\n",
       "      <td>4000</td>\n",
       "    </tr>\n",
       "    <tr>\n",
       "      <th>2019-12-31 23:00:00</th>\n",
       "      <td>4000</td>\n",
       "    </tr>\n",
       "  </tbody>\n",
       "</table>\n",
       "<p>43824 rows × 1 columns</p>\n",
       "</div>"
      ],
      "text/plain": [
       "                     KW-H\n",
       "FECHA                    \n",
       "2015-01-01 00:00:00  3200\n",
       "2015-01-01 01:00:00  3200\n",
       "2015-01-01 02:00:00  2400\n",
       "2015-01-01 03:00:00  2400\n",
       "2015-01-01 04:00:00  2400\n",
       "...                   ...\n",
       "2019-12-31 19:00:00  3400\n",
       "2019-12-31 20:00:00  3600\n",
       "2019-12-31 21:00:00  3800\n",
       "2019-12-31 22:00:00  4000\n",
       "2019-12-31 23:00:00  4000\n",
       "\n",
       "[43824 rows x 1 columns]"
      ]
     },
     "execution_count": 89,
     "metadata": {},
     "output_type": "execute_result"
    }
   ],
   "source": [
    "#Llevamos la FECHA al indice de nuestro df, ahora solo tenemos una columna de datos\n",
    "data_final.set_index('FECHA', drop=True, inplace = True)\n",
    "data_final"
   ]
  },
  {
   "cell_type": "code",
   "execution_count": 90,
   "id": "59ba345c",
   "metadata": {
    "scrolled": true
   },
   "outputs": [
    {
     "data": {
      "text/html": [
       "<div>\n",
       "<style scoped>\n",
       "    .dataframe tbody tr th:only-of-type {\n",
       "        vertical-align: middle;\n",
       "    }\n",
       "\n",
       "    .dataframe tbody tr th {\n",
       "        vertical-align: top;\n",
       "    }\n",
       "\n",
       "    .dataframe thead th {\n",
       "        text-align: right;\n",
       "    }\n",
       "</style>\n",
       "<table border=\"1\" class=\"dataframe\">\n",
       "  <thead>\n",
       "    <tr style=\"text-align: right;\">\n",
       "      <th></th>\n",
       "      <th>KW-H</th>\n",
       "    </tr>\n",
       "    <tr>\n",
       "      <th>FECHA</th>\n",
       "      <th></th>\n",
       "    </tr>\n",
       "  </thead>\n",
       "  <tbody>\n",
       "    <tr>\n",
       "      <th>2015-01-01 00:00:00</th>\n",
       "      <td>3200</td>\n",
       "    </tr>\n",
       "    <tr>\n",
       "      <th>2015-01-01 01:00:00</th>\n",
       "      <td>3200</td>\n",
       "    </tr>\n",
       "    <tr>\n",
       "      <th>2015-01-01 02:00:00</th>\n",
       "      <td>2400</td>\n",
       "    </tr>\n",
       "    <tr>\n",
       "      <th>2015-01-01 03:00:00</th>\n",
       "      <td>2400</td>\n",
       "    </tr>\n",
       "    <tr>\n",
       "      <th>2015-01-01 04:00:00</th>\n",
       "      <td>2400</td>\n",
       "    </tr>\n",
       "    <tr>\n",
       "      <th>...</th>\n",
       "      <td>...</td>\n",
       "    </tr>\n",
       "    <tr>\n",
       "      <th>2019-01-31 19:00:00</th>\n",
       "      <td>3300</td>\n",
       "    </tr>\n",
       "    <tr>\n",
       "      <th>2019-01-31 20:00:00</th>\n",
       "      <td>3300</td>\n",
       "    </tr>\n",
       "    <tr>\n",
       "      <th>2019-01-31 21:00:00</th>\n",
       "      <td>3400</td>\n",
       "    </tr>\n",
       "    <tr>\n",
       "      <th>2019-01-31 22:00:00</th>\n",
       "      <td>3600</td>\n",
       "    </tr>\n",
       "    <tr>\n",
       "      <th>2019-01-31 23:00:00</th>\n",
       "      <td>2600</td>\n",
       "    </tr>\n",
       "  </tbody>\n",
       "</table>\n",
       "<p>35808 rows × 1 columns</p>\n",
       "</div>"
      ],
      "text/plain": [
       "                     KW-H\n",
       "FECHA                    \n",
       "2015-01-01 00:00:00  3200\n",
       "2015-01-01 01:00:00  3200\n",
       "2015-01-01 02:00:00  2400\n",
       "2015-01-01 03:00:00  2400\n",
       "2015-01-01 04:00:00  2400\n",
       "...                   ...\n",
       "2019-01-31 19:00:00  3300\n",
       "2019-01-31 20:00:00  3300\n",
       "2019-01-31 21:00:00  3400\n",
       "2019-01-31 22:00:00  3600\n",
       "2019-01-31 23:00:00  2600\n",
       "\n",
       "[35808 rows x 1 columns]"
      ]
     },
     "execution_count": 90,
     "metadata": {},
     "output_type": "execute_result"
    }
   ],
   "source": [
    "#Dividir los datos de entrenamiento y de test\n",
    "# No se puede utilizar train test split, debemos dividir en el ultimo segmento \n",
    "#Tomamos los datos para validacion el 18%, pero del final de los datos (todo 2019 menos enero)\n",
    "size = int(0.18292*data_final.shape[0])\n",
    "data_test = data_final[-size:]\n",
    "data_train = data_final[:-size]\n",
    "data_train\n"
   ]
  },
  {
   "cell_type": "code",
   "execution_count": 91,
   "id": "3d60ffaf",
   "metadata": {},
   "outputs": [
    {
     "name": "stderr",
     "output_type": "stream",
     "text": [
      "/Users/javiererazo/opt/anaconda3/envs/powerdemand/lib/python3.7/site-packages/ipykernel_launcher.py:3: SettingWithCopyWarning: \n",
      "A value is trying to be set on a copy of a slice from a DataFrame.\n",
      "Try using .loc[row_indexer,col_indexer] = value instead\n",
      "\n",
      "See the caveats in the documentation: https://pandas.pydata.org/pandas-docs/stable/user_guide/indexing.html#returning-a-view-versus-a-copy\n",
      "  This is separate from the ipykernel package so we can avoid doing imports until\n",
      "/Users/javiererazo/opt/anaconda3/envs/powerdemand/lib/python3.7/site-packages/ipykernel_launcher.py:4: SettingWithCopyWarning: \n",
      "A value is trying to be set on a copy of a slice from a DataFrame.\n",
      "Try using .loc[row_indexer,col_indexer] = value instead\n",
      "\n",
      "See the caveats in the documentation: https://pandas.pydata.org/pandas-docs/stable/user_guide/indexing.html#returning-a-view-versus-a-copy\n",
      "  after removing the cwd from sys.path.\n",
      "/Users/javiererazo/opt/anaconda3/envs/powerdemand/lib/python3.7/site-packages/ipykernel_launcher.py:6: SettingWithCopyWarning: \n",
      "A value is trying to be set on a copy of a slice from a DataFrame.\n",
      "Try using .loc[row_indexer,col_indexer] = value instead\n",
      "\n",
      "See the caveats in the documentation: https://pandas.pydata.org/pandas-docs/stable/user_guide/indexing.html#returning-a-view-versus-a-copy\n",
      "  \n",
      "/Users/javiererazo/opt/anaconda3/envs/powerdemand/lib/python3.7/site-packages/ipykernel_launcher.py:7: SettingWithCopyWarning: \n",
      "A value is trying to be set on a copy of a slice from a DataFrame.\n",
      "Try using .loc[row_indexer,col_indexer] = value instead\n",
      "\n",
      "See the caveats in the documentation: https://pandas.pydata.org/pandas-docs/stable/user_guide/indexing.html#returning-a-view-versus-a-copy\n",
      "  import sys\n"
     ]
    },
    {
     "data": {
      "text/html": [
       "<div>\n",
       "<style scoped>\n",
       "    .dataframe tbody tr th:only-of-type {\n",
       "        vertical-align: middle;\n",
       "    }\n",
       "\n",
       "    .dataframe tbody tr th {\n",
       "        vertical-align: top;\n",
       "    }\n",
       "\n",
       "    .dataframe thead th {\n",
       "        text-align: right;\n",
       "    }\n",
       "</style>\n",
       "<table border=\"1\" class=\"dataframe\">\n",
       "  <thead>\n",
       "    <tr style=\"text-align: right;\">\n",
       "      <th></th>\n",
       "      <th>KW-H</th>\n",
       "    </tr>\n",
       "    <tr>\n",
       "      <th>FECHA</th>\n",
       "      <th></th>\n",
       "    </tr>\n",
       "  </thead>\n",
       "  <tbody>\n",
       "    <tr>\n",
       "      <th>2015-01-01 00:00:00</th>\n",
       "      <td>3200.0</td>\n",
       "    </tr>\n",
       "    <tr>\n",
       "      <th>2015-01-01 01:00:00</th>\n",
       "      <td>3200.0</td>\n",
       "    </tr>\n",
       "    <tr>\n",
       "      <th>2015-01-01 02:00:00</th>\n",
       "      <td>2400.0</td>\n",
       "    </tr>\n",
       "    <tr>\n",
       "      <th>2015-01-01 03:00:00</th>\n",
       "      <td>2400.0</td>\n",
       "    </tr>\n",
       "    <tr>\n",
       "      <th>2015-01-01 04:00:00</th>\n",
       "      <td>2400.0</td>\n",
       "    </tr>\n",
       "    <tr>\n",
       "      <th>...</th>\n",
       "      <td>...</td>\n",
       "    </tr>\n",
       "    <tr>\n",
       "      <th>2019-01-31 19:00:00</th>\n",
       "      <td>3300.0</td>\n",
       "    </tr>\n",
       "    <tr>\n",
       "      <th>2019-01-31 20:00:00</th>\n",
       "      <td>3300.0</td>\n",
       "    </tr>\n",
       "    <tr>\n",
       "      <th>2019-01-31 21:00:00</th>\n",
       "      <td>3400.0</td>\n",
       "    </tr>\n",
       "    <tr>\n",
       "      <th>2019-01-31 22:00:00</th>\n",
       "      <td>3600.0</td>\n",
       "    </tr>\n",
       "    <tr>\n",
       "      <th>2019-01-31 23:00:00</th>\n",
       "      <td>2600.0</td>\n",
       "    </tr>\n",
       "  </tbody>\n",
       "</table>\n",
       "<p>35808 rows × 1 columns</p>\n",
       "</div>"
      ],
      "text/plain": [
       "                       KW-H\n",
       "FECHA                      \n",
       "2015-01-01 00:00:00  3200.0\n",
       "2015-01-01 01:00:00  3200.0\n",
       "2015-01-01 02:00:00  2400.0\n",
       "2015-01-01 03:00:00  2400.0\n",
       "2015-01-01 04:00:00  2400.0\n",
       "...                     ...\n",
       "2019-01-31 19:00:00  3300.0\n",
       "2019-01-31 20:00:00  3300.0\n",
       "2019-01-31 21:00:00  3400.0\n",
       "2019-01-31 22:00:00  3600.0\n",
       "2019-01-31 23:00:00  2600.0\n",
       "\n",
       "[35808 rows x 1 columns]"
      ]
     },
     "execution_count": 91,
     "metadata": {},
     "output_type": "execute_result"
    }
   ],
   "source": [
    "#Transformacion de datos a numerica\n",
    "\n",
    "data_train['KW-H'] = [valor.replace(\",\", \".\") for valor in data_train['KW-H'] ]\n",
    "data_train['KW-H'] = [float(valor) for valor in data_train['KW-H'] ]\n",
    "\n",
    "data_test['KW-H'] = [valor.replace(\",\", \".\") for valor in data_test['KW-H'] ]\n",
    "data_test['KW-H'] = [float(valor) for valor in data_test['KW-H'] ]\n",
    "\n",
    "data_train"
   ]
  },
  {
   "cell_type": "code",
   "execution_count": 92,
   "id": "ec339829",
   "metadata": {},
   "outputs": [
    {
     "name": "stdout",
     "output_type": "stream",
     "text": [
      "(35808, 1)\n"
     ]
    },
    {
     "data": {
      "text/plain": [
       "array([[0.66666667],\n",
       "       [0.66666667],\n",
       "       [0.5       ],\n",
       "       ...,\n",
       "       [0.70833333],\n",
       "       [0.75      ],\n",
       "       [0.54166667]])"
      ]
     },
     "execution_count": 92,
     "metadata": {},
     "output_type": "execute_result"
    }
   ],
   "source": [
    "#Normalizacion de los datos\n",
    "#Para LSTM es obligatoria la normalización, en este caso lo hacemos de 0 a 1\n",
    "from sklearn.preprocessing import MinMaxScaler\n",
    "sc = MinMaxScaler(feature_range = (0,1))\n",
    "data_train_scaled = sc.fit_transform(data_train)\n",
    "print(data_train_scaled.shape)\n",
    "data_train_scaled\n",
    " \n"
   ]
  },
  {
   "cell_type": "code",
   "execution_count": 93,
   "id": "bc30caf6",
   "metadata": {},
   "outputs": [],
   "source": [
    "#Tenemos que entrenar la red por bloques de datos \n",
    "#Time_step es el tamaño del bloque \n",
    "#Cada n datos genera una salida \n",
    "#Tomamos bloques de 60 datos consecutivos \n",
    "time_step = 60 \n",
    "X_train = [] #Lista de conjuntos de 60 datos \n",
    "Y_train = []\n",
    "m = len(data_train_scaled)\n",
    "for i in range(time_step, m):\n",
    "    X_train.append(data_train_scaled[i-time_step:i, 0]) #Guardamos 60 valores\n",
    "    Y_train.append(data_train_scaled[i, 0]) #Buscamos predecir el dato time_step + 1, no la var KW\n",
    "X_train, Y_train = np.array(X_train), np.array(Y_train) #Usamos np por reshape y optimizacion\n",
    "\n"
   ]
  },
  {
   "cell_type": "code",
   "execution_count": 94,
   "id": "4c253916",
   "metadata": {},
   "outputs": [
    {
     "data": {
      "text/plain": [
       "((35748, 60), (35748,))"
      ]
     },
     "execution_count": 94,
     "metadata": {},
     "output_type": "execute_result"
    }
   ],
   "source": [
    "X_train.shape, Y_train.shape"
   ]
  },
  {
   "cell_type": "code",
   "execution_count": 95,
   "id": "5ba1065b",
   "metadata": {},
   "outputs": [],
   "source": [
    "# pd.DataFrame(X_train).to_csv('x_train.csv')\n",
    "# pd.DataFrame(Y_train).to_csv('y_train.csv')"
   ]
  },
  {
   "cell_type": "code",
   "execution_count": 14,
   "id": "7621394f",
   "metadata": {
    "scrolled": true
   },
   "outputs": [
    {
     "data": {
      "text/plain": [
       "((35748, 60, 1), (35748,))"
      ]
     },
     "execution_count": 14,
     "metadata": {},
     "output_type": "execute_result"
    }
   ],
   "source": [
    "#Obligatorio el reshape de los datos, es obligatorio por Keras, nos pide ingresar un array de 3 dim\n",
    "#Llevamos de dos a 3 dimensiones nuestro arreglo \n",
    "X_train = np.reshape(X_train, (X_train.shape[0], X_train.shape[1], 1)) #Agregamos una nueva dimension\n",
    "X_train.shape, Y_train.shape"
   ]
  },
  {
   "cell_type": "code",
   "execution_count": 15,
   "id": "8979f4b0",
   "metadata": {},
   "outputs": [],
   "source": [
    "#MODELO\n",
    "from keras.layers import LSTM\n",
    "from sklearn.metrics import mean_squared_error\n"
   ]
  },
  {
   "cell_type": "code",
   "execution_count": 16,
   "id": "196070c5",
   "metadata": {},
   "outputs": [
    {
     "name": "stderr",
     "output_type": "stream",
     "text": [
      "2022-01-21 18:18:47.786809: I tensorflow/core/platform/cpu_feature_guard.cc:145] This TensorFlow binary is optimized with Intel(R) MKL-DNN to use the following CPU instructions in performance critical operations:  SSE4.1 SSE4.2 AVX AVX2 AVX512F FMA\n",
      "To enable them in non-MKL-DNN operations, rebuild TensorFlow with the appropriate compiler flags.\n",
      "2022-01-21 18:18:47.787894: I tensorflow/core/common_runtime/process_util.cc:115] Creating new thread pool with default inter op setting: 8. Tune using inter_op_parallelism_threads for best performance.\n"
     ]
    },
    {
     "name": "stdout",
     "output_type": "stream",
     "text": [
      "Epoch 1/10\n",
      "35748/35748 [==============================] - 112s 3ms/step - loss: 0.0173 - mean_absolute_error: 0.0841\n",
      "Epoch 2/10\n",
      "35748/35748 [==============================] - 171s 5ms/step - loss: 0.0057 - mean_absolute_error: 0.0505\n",
      "Epoch 3/10\n",
      "35748/35748 [==============================] - 165s 5ms/step - loss: 0.0041 - mean_absolute_error: 0.0421\n",
      "Epoch 4/10\n",
      "35748/35748 [==============================] - 157s 4ms/step - loss: 0.0036 - mean_absolute_error: 0.0384\n",
      "Epoch 5/10\n",
      "35748/35748 [==============================] - 157s 4ms/step - loss: 0.0034 - mean_absolute_error: 0.0367\n",
      "Epoch 6/10\n",
      "35748/35748 [==============================] - 165s 5ms/step - loss: 0.0033 - mean_absolute_error: 0.0360\n",
      "Epoch 7/10\n",
      "35748/35748 [==============================] - 161s 5ms/step - loss: 0.0032 - mean_absolute_error: 0.0352\n",
      "Epoch 8/10\n",
      "35748/35748 [==============================] - 158s 4ms/step - loss: 0.0032 - mean_absolute_error: 0.0346\n",
      "Epoch 9/10\n",
      "35748/35748 [==============================] - 169s 5ms/step - loss: 0.0032 - mean_absolute_error: 0.0343\n",
      "Epoch 10/10\n",
      "35748/35748 [==============================] - 155s 4ms/step - loss: 0.0031 - mean_absolute_error: 0.0336\n"
     ]
    }
   ],
   "source": [
    "#rmsprop LOS MEJORES RESULTADOS\n",
    "dim_entrada = (X_train.shape[1],X_train.shape[2])\n",
    "dim_salida = 1 \n",
    "num_neuronas = 10\n",
    "\n",
    "\n",
    "model = Sequential()\n",
    "#Capa 1 \n",
    "model.add(LSTM(units=num_neuronas, return_sequences = True, input_shape=dim_entrada))\n",
    "model.add(Dropout(0.4))\n",
    "# #Capa 2\n",
    "model.add(LSTM(units=4))\n",
    "# model.add(Dropout(0.2))\n",
    "\n",
    "\n",
    "#capa de salida \n",
    "model.add(Dense(units = dim_salida))\n",
    "model.compile(optimizer='rmsprop', loss='mse', metrics = ['mean_absolute_error']) #mean_squared_error\n",
    "\n",
    "#Entrenamiento \n",
    "history = model.fit(X_train, Y_train, epochs = 10, batch_size = 64)"
   ]
  },
  {
   "cell_type": "code",
   "execution_count": 17,
   "id": "63de39d0",
   "metadata": {},
   "outputs": [
    {
     "data": {
      "text/html": [
       "<div>\n",
       "<style scoped>\n",
       "    .dataframe tbody tr th:only-of-type {\n",
       "        vertical-align: middle;\n",
       "    }\n",
       "\n",
       "    .dataframe tbody tr th {\n",
       "        vertical-align: top;\n",
       "    }\n",
       "\n",
       "    .dataframe thead th {\n",
       "        text-align: right;\n",
       "    }\n",
       "</style>\n",
       "<table border=\"1\" class=\"dataframe\">\n",
       "  <thead>\n",
       "    <tr style=\"text-align: right;\">\n",
       "      <th></th>\n",
       "      <th>KW-H</th>\n",
       "    </tr>\n",
       "    <tr>\n",
       "      <th>FECHA</th>\n",
       "      <th></th>\n",
       "    </tr>\n",
       "  </thead>\n",
       "  <tbody>\n",
       "    <tr>\n",
       "      <th>2019-02-01 00:00:00</th>\n",
       "      <td>2500.0</td>\n",
       "    </tr>\n",
       "    <tr>\n",
       "      <th>2019-02-01 01:00:00</th>\n",
       "      <td>2500.0</td>\n",
       "    </tr>\n",
       "    <tr>\n",
       "      <th>2019-02-01 02:00:00</th>\n",
       "      <td>2200.0</td>\n",
       "    </tr>\n",
       "    <tr>\n",
       "      <th>2019-02-01 03:00:00</th>\n",
       "      <td>2200.0</td>\n",
       "    </tr>\n",
       "    <tr>\n",
       "      <th>2019-02-01 04:00:00</th>\n",
       "      <td>2200.0</td>\n",
       "    </tr>\n",
       "    <tr>\n",
       "      <th>...</th>\n",
       "      <td>...</td>\n",
       "    </tr>\n",
       "    <tr>\n",
       "      <th>2019-12-31 19:00:00</th>\n",
       "      <td>3400.0</td>\n",
       "    </tr>\n",
       "    <tr>\n",
       "      <th>2019-12-31 20:00:00</th>\n",
       "      <td>3600.0</td>\n",
       "    </tr>\n",
       "    <tr>\n",
       "      <th>2019-12-31 21:00:00</th>\n",
       "      <td>3800.0</td>\n",
       "    </tr>\n",
       "    <tr>\n",
       "      <th>2019-12-31 22:00:00</th>\n",
       "      <td>4000.0</td>\n",
       "    </tr>\n",
       "    <tr>\n",
       "      <th>2019-12-31 23:00:00</th>\n",
       "      <td>4000.0</td>\n",
       "    </tr>\n",
       "  </tbody>\n",
       "</table>\n",
       "<p>8016 rows × 1 columns</p>\n",
       "</div>"
      ],
      "text/plain": [
       "                       KW-H\n",
       "FECHA                      \n",
       "2019-02-01 00:00:00  2500.0\n",
       "2019-02-01 01:00:00  2500.0\n",
       "2019-02-01 02:00:00  2200.0\n",
       "2019-02-01 03:00:00  2200.0\n",
       "2019-02-01 04:00:00  2200.0\n",
       "...                     ...\n",
       "2019-12-31 19:00:00  3400.0\n",
       "2019-12-31 20:00:00  3600.0\n",
       "2019-12-31 21:00:00  3800.0\n",
       "2019-12-31 22:00:00  4000.0\n",
       "2019-12-31 23:00:00  4000.0\n",
       "\n",
       "[8016 rows x 1 columns]"
      ]
     },
     "execution_count": 17,
     "metadata": {},
     "output_type": "execute_result"
    }
   ],
   "source": [
    "data_test"
   ]
  },
  {
   "cell_type": "code",
   "execution_count": 18,
   "id": "90c9731e",
   "metadata": {},
   "outputs": [],
   "source": [
    "x_test  = data_test.values\n",
    "x_test = sc.transform(x_test)\n",
    "# # x_test\n",
    "X_test = []\n",
    "for i in range(time_step, len(x_test)):\n",
    "    X_test.append(x_test[i-time_step: i, 0])\n",
    "X_test= np.array(X_test)\n",
    "X_test = np.reshape(X_test, (X_test.shape[0], X_test.shape[1], 1))\n",
    "X_test.shape\n",
    "prediccion = model.predict(X_test)\n",
    "prediccion = sc.inverse_transform(prediccion)"
   ]
  },
  {
   "cell_type": "code",
   "execution_count": 19,
   "id": "8bd2d0ca",
   "metadata": {},
   "outputs": [
    {
     "data": {
      "text/plain": [
       "7956"
      ]
     },
     "execution_count": 19,
     "metadata": {},
     "output_type": "execute_result"
    }
   ],
   "source": [
    "len(prediccion)"
   ]
  },
  {
   "cell_type": "code",
   "execution_count": 103,
   "id": "102b81df",
   "metadata": {},
   "outputs": [
    {
     "data": {
      "image/png": "[encoded data removed]",
      "text/plain": [
       "<Figure size 432x288 with 1 Axes>"
      ]
     },
     "metadata": {
      "needs_background": "light"
     },
     "output_type": "display_data"
    }
   ],
   "source": [
    "#Grafica de valores\n",
    "# Y_test #Aun no defnido \n",
    "plt.plot(data_test.values[:261], color='red', label='Consumo real')\n",
    "plt.plot(prediccion[:261], color='blue', label='Predicción de consumo')\n",
    "plt.xlabel('Tiempo')\n",
    "plt.ylabel('Consumo')\n",
    "plt.legend()\n",
    "plt.show()"
   ]
  },
  {
   "cell_type": "code",
   "execution_count": 37,
   "id": "27aa36fe",
   "metadata": {
    "scrolled": false
   },
   "outputs": [
    {
     "data": {
      "text/plain": [
       "[[<matplotlib.axis.XTick at 0x7f7b6c338910>,\n",
       "  <matplotlib.axis.XTick at 0x7f7b6bf4f710>,\n",
       "  <matplotlib.axis.XTick at 0x7f7b6bf74110>,\n",
       "  <matplotlib.axis.XTick at 0x7f7b6c38c250>,\n",
       "  <matplotlib.axis.XTick at 0x7f7b6c38c690>,\n",
       "  <matplotlib.axis.XTick at 0x7f7b6c396050>,\n",
       "  <matplotlib.axis.XTick at 0x7f7b6c38cb10>,\n",
       "  <matplotlib.axis.XTick at 0x7f7b6c396250>]]"
      ]
     },
     "execution_count": 37,
     "metadata": {},
     "output_type": "execute_result"
    },
    {
     "data": {
      "image/png": "[encoded data removed]",
      "text/plain": [
       "<Figure size 432x288 with 1 Axes>"
      ]
     },
     "metadata": {
      "needs_background": "light"
     },
     "output_type": "display_data"
    }
   ],
   "source": [
    "# Figura 5.8: Curva de la demanda eléctrica pronosticada\n",
    "#Los primeros 7 dias de febrero\n",
    "prediccion_febrero = prediccion[:168]\n",
    "fig, ax_58 = plt.subplots()\n",
    "ax_58.plot(prediccion_febrero, \n",
    "           color='blue', \n",
    "           label='Datos Pronosticados')\n",
    "plt.suptitle('CURVA DE LA DEMANDA PRONOSTICADA',\n",
    "            fontsize = 18,\n",
    "            fontweight = 'bold',\n",
    "            fontfamily='serif')\n",
    "# plt.xlabel('1 1 1 2 2 2 3 3 3 4 4 4 5 5 5 6 6 7 7 7')\n",
    "plt.legend()\n",
    "ax_58.set(xticks =range(0, len(prediccion_febrero)+ 1, 24))\n",
    "# plt.show()\n"
   ]
  },
  {
   "cell_type": "code",
   "execution_count": 42,
   "id": "bc8412bb",
   "metadata": {},
   "outputs": [
    {
     "data": {
      "text/html": [
       "<div>\n",
       "<style scoped>\n",
       "    .dataframe tbody tr th:only-of-type {\n",
       "        vertical-align: middle;\n",
       "    }\n",
       "\n",
       "    .dataframe tbody tr th {\n",
       "        vertical-align: top;\n",
       "    }\n",
       "\n",
       "    .dataframe thead th {\n",
       "        text-align: right;\n",
       "    }\n",
       "</style>\n",
       "<table border=\"1\" class=\"dataframe\">\n",
       "  <thead>\n",
       "    <tr style=\"text-align: right;\">\n",
       "      <th></th>\n",
       "      <th>KW-H PRED</th>\n",
       "    </tr>\n",
       "  </thead>\n",
       "  <tbody>\n",
       "    <tr>\n",
       "      <th>count</th>\n",
       "      <td>168.000000</td>\n",
       "    </tr>\n",
       "    <tr>\n",
       "      <th>mean</th>\n",
       "      <td>3541.908447</td>\n",
       "    </tr>\n",
       "    <tr>\n",
       "      <th>std</th>\n",
       "      <td>622.003052</td>\n",
       "    </tr>\n",
       "    <tr>\n",
       "      <th>min</th>\n",
       "      <td>2264.079346</td>\n",
       "    </tr>\n",
       "    <tr>\n",
       "      <th>25%</th>\n",
       "      <td>3066.260010</td>\n",
       "    </tr>\n",
       "    <tr>\n",
       "      <th>50%</th>\n",
       "      <td>3796.951172</td>\n",
       "    </tr>\n",
       "    <tr>\n",
       "      <th>75%</th>\n",
       "      <td>4019.773682</td>\n",
       "    </tr>\n",
       "    <tr>\n",
       "      <th>max</th>\n",
       "      <td>4406.853027</td>\n",
       "    </tr>\n",
       "  </tbody>\n",
       "</table>\n",
       "</div>"
      ],
      "text/plain": [
       "         KW-H PRED\n",
       "count   168.000000\n",
       "mean   3541.908447\n",
       "std     622.003052\n",
       "min    2264.079346\n",
       "25%    3066.260010\n",
       "50%    3796.951172\n",
       "75%    4019.773682\n",
       "max    4406.853027"
      ]
     },
     "execution_count": 42,
     "metadata": {},
     "output_type": "execute_result"
    }
   ],
   "source": [
    "prediccion_febrero_df = pd.DataFrame(prediccion_febrero, columns = ['KW-H PRED'])\n",
    "prediccion_febrero_df.describe()"
   ]
  },
  {
   "cell_type": "code",
   "execution_count": 46,
   "id": "8e01bad5",
   "metadata": {},
   "outputs": [
    {
     "name": "stdout",
     "output_type": "stream",
     "text": [
      "Máximo = 4406.85302734375\n",
      "Mínimo = 2264.079345703125\n",
      "Rango = 2142.773681640625\n",
      "Media = 3541.908447265625\n",
      "Mediana = 3796.951171875\n",
      "Varianza = 386887.78125\n",
      "Desviación Estándar = 620.1490478515625\n",
      "Coeficiente de variación = 17.508895474989515 %\n",
      "Límite máximo = 4162.0574951171875\n",
      "Límite mínimo = 2921.7593994140625\n"
     ]
    },
    {
     "data": {
      "text/plain": [
       "count     168.000000\n",
       "mean     3541.908447\n",
       "std       622.003052\n",
       "min      2264.079346\n",
       "25%      3066.260010\n",
       "50%      3796.951172\n",
       "75%      4019.773682\n",
       "max      4406.853027\n",
       "Name: KW-H PRED, dtype: float64"
      ]
     },
     "execution_count": 46,
     "metadata": {},
     "output_type": "execute_result"
    }
   ],
   "source": [
    "# Tabla 5.2: Análisis descriptiva con datos reales de la demanda eléctrica\n",
    "data_pred_febr =prediccion_febrero_df['KW-H PRED']\n",
    "maximo = np.max(data_pred_febr)\n",
    "print('Máximo = {}'.format(maximo))\n",
    "minimo = np.min(data_pred_febr)\n",
    "print('Mínimo = {}'.format(minimo))\n",
    "# q75, q25 = np.percentile(data_estudio['KW-H'], [75, 25])\n",
    "# rango = q75 - q25\n",
    "rango = maximo - minimo\n",
    "print('Rango = {}'.format(rango))\n",
    "media = np.mean(data_pred_febr)\n",
    "print('Media = {}'.format(media))\n",
    "mediana = data_pred_febr.median()\n",
    "print('Mediana = {}'.format(mediana))\n",
    "varianza = data_pred_febr.var()\n",
    "print('Varianza = {}'.format(varianza))\n",
    "std = np.std(data_pred_febr)\n",
    "print('Desviación Estándar = {}'.format(std))\n",
    "coef_var = np.std(data_pred_febr) /np.mean(data_pred_febr) * 100\n",
    "print('Coeficiente de variación = {} %'.format(coef_var))\n",
    "# lim_max, lim_min = np.percentile((data_pred_febr), [75, 25])\n",
    "lim_max = media + 1 * std\n",
    "lim_min = media - 1 * std\n",
    "print('Límite máximo = {}'.format(lim_max))\n",
    "print('Límite mínimo = {}'.format(lim_min))\n",
    "\n",
    "data_pred_febr.describe()"
   ]
  },
  {
   "cell_type": "code",
   "execution_count": 47,
   "id": "d1af1a23",
   "metadata": {},
   "outputs": [],
   "source": [
    "#Funciones\n",
    "def funcionConstante(x, constante):\n",
    "    return constante"
   ]
  },
  {
   "cell_type": "code",
   "execution_count": 70,
   "id": "cd693441",
   "metadata": {},
   "outputs": [
    {
     "data": {
      "text/plain": [
       "[[<matplotlib.axis.XTick at 0x7f7b6aef9d10>,\n",
       "  <matplotlib.axis.XTick at 0x7f7b6aef9c10>,\n",
       "  <matplotlib.axis.XTick at 0x7f7b6b221310>,\n",
       "  <matplotlib.axis.XTick at 0x7f7b6daaf810>,\n",
       "  <matplotlib.axis.XTick at 0x7f7b6daaf7d0>,\n",
       "  <matplotlib.axis.XTick at 0x7f7b6daba150>,\n",
       "  <matplotlib.axis.XTick at 0x7f7b6dabac50>,\n",
       "  <matplotlib.axis.XTick at 0x7f7b6dabadd0>]]"
      ]
     },
     "execution_count": 70,
     "metadata": {},
     "output_type": "execute_result"
    },
    {
     "data": {
      "image/png": "[encoded data removed]",
      "text/plain": [
       "<Figure size 432x288 with 1 Axes>"
      ]
     },
     "metadata": {
      "needs_background": "light"
     },
     "output_type": "display_data"
    }
   ],
   "source": [
    "# Figura 5.9: Desviación estándar con datos de la demanda pronosticada\n",
    "\n",
    "datos_kwh = data_pred_febr\n",
    "\n",
    "\n",
    "\n",
    "fig, ax_59 = plt.subplots()\n",
    "\n",
    "ax_59.plot(datos_kwh, \n",
    "         color = 'blue', \n",
    "         label = 'DEMANDA (kWh)')\n",
    "ax_59.plot([funcionConstante(x, media) for x in datos_kwh], \n",
    "         color = 'green', \n",
    "         label = 'PROMEDIO')\n",
    "\n",
    "ax_59.plot([funcionConstante(x, lim_max) for x in datos_kwh], \n",
    "         color = 'red', \n",
    "         label = 'LÍMITE MÁXIMO')\n",
    "\n",
    "ax_59.plot([funcionConstante(x, lim_min) for x in datos_kwh], \n",
    "         color = 'gray', \n",
    "         label = 'LÍMITE MÍNIMO')\n",
    "# ax_59.fill_between([funcionConstante(x, lim_max) for x in datos_kwh], \n",
    "#                    [funcionConstante(x, lim_min) for x in datos_kwh],\n",
    "#                    alpha = .5,\n",
    "#                    linewidth = 0\n",
    "#                   )\n",
    "\n",
    "plt.suptitle('DESVIACIÓN ESTÁNDAR',\n",
    "            fontsize = 18,\n",
    "            fontweight = 'bold',\n",
    "            fontfamily='serif')\n",
    "# plt.xlabel('1 1 1 2 2 2 3 3 3 4 4 4 5 5 5 6 6 7 7 7')\n",
    "plt.legend()\n",
    "ax_59.set(xticks =range(0, len(prediccion_febrero)+ 1, 24))"
   ]
  },
  {
   "cell_type": "code",
   "execution_count": 72,
   "id": "fe521618",
   "metadata": {},
   "outputs": [
    {
     "data": {
      "text/plain": [
       "0      2582.288086\n",
       "1      2911.652100\n",
       "2      3502.538574\n",
       "3      3837.328125\n",
       "4      3849.942383\n",
       "          ...     \n",
       "163    3062.572266\n",
       "164    3832.619385\n",
       "165    3754.178711\n",
       "166    3504.527100\n",
       "167    3173.098633\n",
       "Name: KW-H PRED, Length: 168, dtype: float32"
      ]
     },
     "execution_count": 72,
     "metadata": {},
     "output_type": "execute_result"
    }
   ],
   "source": [
    "#Exportacion de datos para sixpack capability system\n",
    "data_pred_febr.to_csv('prediccion_febrero.csv')\n",
    "data_pred_febr"
   ]
  },
  {
   "cell_type": "code",
   "execution_count": 96,
   "id": "677db6e2",
   "metadata": {},
   "outputs": [
    {
     "data": {
      "text/plain": [
       "[[<matplotlib.axis.XTick at 0x7f7b6e258c90>,\n",
       "  <matplotlib.axis.XTick at 0x7f7b6e258210>,\n",
       "  <matplotlib.axis.XTick at 0x7f9a7a765490>,\n",
       "  <matplotlib.axis.XTick at 0x7f9a65c31dd0>,\n",
       "  <matplotlib.axis.XTick at 0x7f9a65c31990>,\n",
       "  <matplotlib.axis.XTick at 0x7f7b6ef7d050>,\n",
       "  <matplotlib.axis.XTick at 0x7f7b6ef7d4d0>,\n",
       "  <matplotlib.axis.XTick at 0x7f7b6ef7dc10>,\n",
       "  <matplotlib.axis.XTick at 0x7f7b6ef98d10>,\n",
       "  <matplotlib.axis.XTick at 0x7f9a65c31210>,\n",
       "  <matplotlib.axis.XTick at 0x7f7b6ef7d1d0>,\n",
       "  <matplotlib.axis.XTick at 0x7f7b6ef986d0>,\n",
       "  <matplotlib.axis.XTick at 0x7f7b6ef9f090>,\n",
       "  <matplotlib.axis.XTick at 0x7f7b6ef9f410>,\n",
       "  <matplotlib.axis.XTick at 0x7f7b6ef9f990>,\n",
       "  <matplotlib.axis.XTick at 0x7f7b6ef8f210>,\n",
       "  <matplotlib.axis.XTick at 0x7f7b6ef98110>,\n",
       "  <matplotlib.axis.XTick at 0x7f7b6ef9f250>,\n",
       "  <matplotlib.axis.XTick at 0x7f7b6ef8f250>,\n",
       "  <matplotlib.axis.XTick at 0x7f7b6ef82190>,\n",
       "  <matplotlib.axis.XTick at 0x7f7b6ef82510>,\n",
       "  <matplotlib.axis.XTick at 0x7f7b6ef650d0>,\n",
       "  <matplotlib.axis.XTick at 0x7f7b6ef65350>,\n",
       "  <matplotlib.axis.XTick at 0x7f7b6ef8fe50>]]"
      ]
     },
     "execution_count": 96,
     "metadata": {},
     "output_type": "execute_result"
    },
    {
     "data": {
      "image/png": "[encoded data removed]",
      "text/plain": [
       "<Figure size 432x288 with 1 Axes>"
      ]
     },
     "metadata": {
      "needs_background": "light"
     },
     "output_type": "display_data"
    }
   ],
   "source": [
    "# Figura 5.11: Demanda eléctrica diaria con datos obtenidos del pronostico\n",
    "# KW-H vs Hora del dia \n",
    "datos_kwh\n",
    "fig, ax_511 = plt.subplots()\n",
    "serie = range(0,24)\n",
    "ax_511.plot(serie,\n",
    "            datos_kwh[24:48],\n",
    "         color = 'blue', \n",
    "         label = 'Día 2 del mes de febrero')\n",
    "\n",
    "ax_511.plot(serie, \n",
    "            datos_kwh[48:72], \n",
    "         color = 'red', \n",
    "         label = 'Día 3 del mes de febrero')\n",
    "\n",
    "plt.suptitle('DEMANDA ELÉCTRICA DIARIA',\n",
    "            fontsize = 18,\n",
    "            fontweight = 'bold',\n",
    "            fontfamily='serif')\n",
    "plt.legend()\n",
    "ax_511.set(xticks = serie)\n"
   ]
  },
  {
   "cell_type": "code",
   "execution_count": 99,
   "id": "722dd609",
   "metadata": {},
   "outputs": [],
   "source": [
    "# exportamos los datos del dia 3 del mes de febrero \n",
    "datos_tres_febrero = datos_kwh[48:72]\n",
    "datos_tres_febrero.to_csv('datos_tresFeb_pred.csv')\n"
   ]
  },
  {
   "cell_type": "code",
   "execution_count": 100,
   "id": "0ac72e85",
   "metadata": {
    "scrolled": true
   },
   "outputs": [
    {
     "data": {
      "text/plain": [
       "count      24.000000\n",
       "mean     4146.682129\n",
       "std       126.889633\n",
       "min      4011.190674\n",
       "25%      4030.996460\n",
       "50%      4160.245361\n",
       "75%      4190.992554\n",
       "max      4385.215332\n",
       "Name: KW-H PRED, dtype: float64"
      ]
     },
     "execution_count": 100,
     "metadata": {},
     "output_type": "execute_result"
    }
   ],
   "source": [
    "datos_tres_febrero.describe()"
   ]
  },
  {
   "cell_type": "code",
   "execution_count": 115,
   "id": "a9b89b3b",
   "metadata": {},
   "outputs": [
    {
     "data": {
      "text/plain": [
       "0      2582.288086\n",
       "1      2911.652100\n",
       "2      3502.538574\n",
       "3      3837.328125\n",
       "4      3849.942383\n",
       "          ...     \n",
       "163    3062.572266\n",
       "164    3832.619385\n",
       "165    3754.178711\n",
       "166    3504.527100\n",
       "167    3173.098633\n",
       "Name: KW-H PRED, Length: 168, dtype: float32"
      ]
     },
     "execution_count": 115,
     "metadata": {},
     "output_type": "execute_result"
    }
   ],
   "source": [
    "mes = 1\n",
    "fecha_inicio = 25\n",
    "fecha_fin = 31\n",
    "year = 2019\n",
    "data_cuar_sem_dic = data[(data['FECHA'] >=fecha_inicio) &  \n",
    "                         (data['MES'] == mes )& \n",
    "                         (data['AÑO'] == year)]\n",
    "data\n",
    "data_cuar_sem_dic['KW-H']\n",
    "data_pred_febr"
   ]
  },
  {
   "cell_type": "code",
   "execution_count": 132,
   "id": "2ce56135",
   "metadata": {},
   "outputs": [
    {
     "data": {
      "image/png": "[encoded data removed]",
      "text/plain": [
       "<Figure size 432x288 with 1 Axes>"
      ]
     },
     "metadata": {
      "needs_background": "light"
     },
     "output_type": "display_data"
    }
   ],
   "source": [
    "# Figura 5.13: Curva de la demanda eléctrica real vs pronosticada\n",
    "#Pronostico para los ultimos 7 dias de la data de prueba\n",
    "\n",
    "fig, ax_511 = plt.subplots()\n",
    "rango = range(0, len(data_pred_febr)+1, 24)\n",
    "ax_511.plot(data_test.values[-24*7:], \n",
    "         color='red', \n",
    "         label='Consumo real')\n",
    "ax_511.plot(prediccion[-24*7:], \n",
    "         color='blue', \n",
    "         label='Predicción de consumo')\n",
    "plt.suptitle('CURVA DE LA DEMANDA ELÉCTRICA',\n",
    "            fontsize = 18,\n",
    "            fontweight = 'bold',\n",
    "            fontfamily='serif')\n",
    "plt.legend()\n",
    "ax_511.set(xticks = rango)\n",
    "plt.show()"
   ]
  },
  {
   "cell_type": "code",
   "execution_count": 137,
   "id": "5106651b",
   "metadata": {},
   "outputs": [
    {
     "data": {
      "image/png": "[encoded data removed]",
      "text/plain": [
       "<Figure size 432x288 with 1 Axes>"
      ]
     },
     "metadata": {
      "needs_background": "light"
     },
     "output_type": "display_data"
    }
   ],
   "source": [
    "#Gráfica de error entre curva de la demanda eléctrica real y pronosticada (semanal)\n",
    "fig, ax_511 = plt.subplots()\n",
    "rango = range(0, len(data_pred_febr)+1, 24)\n",
    "x = range(0, 24*7)\n",
    "yerror = [0.01, 0.0336]\n",
    "plt.errorbar(x, \n",
    "             data_test.values[-24*7:], \n",
    "#              yerr = yerror,\n",
    "             color='red', \n",
    "             label='Consumo real')\n",
    "# plt.plot(prediccion[-24*7:], \n",
    "#          color='blue', \n",
    "#          label='Predicción de consumo')\n",
    "plt.suptitle('CURVA DE LA DEMANDA ELÉCTRICA',\n",
    "            fontsize = 18,\n",
    "            fontweight = 'bold',\n",
    "            fontfamily='serif')\n",
    "plt.legend()\n",
    "ax_511.set(xticks = rango)\n",
    "plt.show()"
   ]
  },
  {
   "cell_type": "code",
   "execution_count": null,
   "id": "6be9a62b",
   "metadata": {},
   "outputs": [],
   "source": []
  },
  {
   "cell_type": "code",
   "execution_count": null,
   "id": "25e5f90d",
   "metadata": {},
   "outputs": [],
   "source": []
  },
  {
   "cell_type": "code",
   "execution_count": null,
   "id": "b366312a",
   "metadata": {},
   "outputs": [],
   "source": []
  },
  {
   "cell_type": "code",
   "execution_count": null,
   "id": "b064e0e0",
   "metadata": {},
   "outputs": [],
   "source": []
  }
 ],
 "metadata": {
  "kernelspec": {
   "display_name": "Python 3 (ipykernel)",
   "language": "python",
   "name": "python3"
  },
  "language_info": {
   "codemirror_mode": {
    "name": "ipython",
    "version": 3
   },
   "file_extension": ".py",
   "mimetype": "text/x-python",
   "name": "python",
   "nbconvert_exporter": "python",
   "pygments_lexer": "ipython3",
   "version": "3.7.11"
  }
 },
 "nbformat": 4,
 "nbformat_minor": 5
}
